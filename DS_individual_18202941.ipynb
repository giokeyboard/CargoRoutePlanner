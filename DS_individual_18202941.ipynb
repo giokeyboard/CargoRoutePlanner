{
 "cells": [
  {
   "cell_type": "markdown",
   "metadata": {},
   "source": [
    "# Individual notebook: Giovanni Facchinetti (18202941)"
   ]
  },
  {
   "cell_type": "markdown",
   "metadata": {},
   "source": [
    "## Introduction\n",
    "In this individual notebook, we focus on the Python **dictionary** concrete data structure as an implementation of the **Hash Table** ADT.<br/><br/>\n",
    "In our application, the very first step consists of reading, parsing and storing external data (in the form of csv files) in some kind of data structures that can be efficiently accessed and edited throughout the program.\n",
    "- **Correctness**: ensured by the Python hash function that maps each key to an address number in the memory, assuring that a value can be accessed by a unique key\n",
    "- **Speed** and **Efficiency**: Python dictionaries are fairly quick when accessing values given a key, as well as editing and deleting - normally O(1) time.\n",
    "- **Robustness**: Python dictionaries can be considered robust enough. There are some restrictions that apply both to keys and values.\n",
    "    - **Key restrictions**:\n",
    "        - Keys must be unique, i.e. in the same dictionary they appear **only once**. Whenever we try to add a value with a key which is already present, Python overwrites the previous value with the new one - preserving the key.\n",
    "        - keys must be of a type that is **hashable**, so that neither a list or another dictionary can act as keys in a dictionary since they are mutable data types. Hashable means that an object can be passed to the hash function which takes arbitrary size data and maps it to a fixed-size hash value used for table lookup and comparison. If we try to add a non-hashable key, Python throws a error.\n",
    "    - **Value restrictions**:\n",
    "        there are no restrictions on dictionary values. Any object type supported can be stored as a value, including user-defined objects. A value can also appear in a dictionary multiple times.\n",
    "- **Clarity**: keys give some structure to the data and make the whole data body more human-readable and retrieavable.\n",
    "- **Maintainability**: since the hash function maps every key to a unique value, it is fairly easy to maintain a dictionary. The syntax to change a value given a certain key is identical to the one used for lists (using indices)."
   ]
  },
  {
   "cell_type": "markdown",
   "metadata": {},
   "source": [
    "## Design\n",
    "We believe a Python **dictionary** data structure is best for our application, since its implementation of a symbol table provides a quick and efficient data retrieval by means of the built-in hash function.<br>\n",
    "\n",
    "**N.B.**: what Python implements is not a perfect \"hashing\", but what it is known as \"pre-hashing\".\n",
    "This means that Python has a mechanism to get a hash code from a key object, but it does not guarantee that the keyspace (the space containing all the possible keys) is restricted to a reasonable proportion of the table size.<br/>\n",
    "Python \"prehashes\" an object to a non-negative integer using a built-in __hash__ function, which by default maps it to its memory address number.<br/>\n",
    "Ideally, we would want hash(a) = hash(b) only if a = b; in Python it normally works except for some (rare case) hash(‘\\0B ’) = 64 = hash(‘\\0\\0C ’).\n",
    "\n",
    "Python dictionaries are well scalable, as the Python hash function is fairly robust. <br/>\n",
    "By using a dictionary for the airport atlas, for instance, we ensure that every airport code is unique (acting as a key) and cannot be replicated in any way.\n",
    "The access time is very small and in this notebook we will compare it with the Python **dynamic array** implementation, i.e. the **list** data structure. The main strength of a Python dictionary is the rapid access of stored values by means of a key, instead of an numeric index as it happens with arrays."
   ]
  },
  {
   "cell_type": "markdown",
   "metadata": {},
   "source": [
    "## Code"
   ]
  },
  {
   "cell_type": "markdown",
   "metadata": {},
   "source": [
    "### Import packages\n",
    "First of all, we import the modules we need to set-up our application."
   ]
  },
  {
   "cell_type": "code",
   "execution_count": 32,
   "metadata": {},
   "outputs": [],
   "source": [
    "import numpy as np\n",
    "import pandas as pd"
   ]
  },
  {
   "cell_type": "markdown",
   "metadata": {},
   "source": [
    "### Read data from provided datasets\n",
    "We fetch the data from the provided csv files:\n",
    "- __currencyrates.csv__ for currency rates in each country\n",
    "- __countrycurrency.csv__ for country information and correspondent currencies used\n",
    "- __airport.csv__ for airport information\n",
    "- __aircraft.csv__ for aircraft models\n",
    "- __test.csv__ for test cases\n",
    "\n",
    "We import only the fields that are needed for our application and for each csv file we generate a dataframe object."
   ]
  },
  {
   "cell_type": "code",
   "execution_count": 33,
   "metadata": {},
   "outputs": [],
   "source": [
    "# Read currency data and extract needed fields\n",
    "fields = ['CurrencyCode', 'toEuro']\n",
    "df = pd.read_csv(\"currencyrates.csv\", skipinitialspace = True, usecols = fields)\n",
    "\n",
    "# Read country data and extract needed fields\n",
    "fields = ['name','currency_alphabetic_code']\n",
    "df_2 = pd.read_csv(\"countrycurrency.csv\", skipinitialspace=True, usecols=fields)\n",
    "\n",
    "# Read airport data and extract needed fields\n",
    "# In this case we need to use column indices as the data lacks headers\n",
    "# After having examined the csv file with a spreadsheet editor, we rename the columns we need\n",
    "df_3 = pd.read_csv(\"airport.csv\", header = None, usecols = [3,4,6,7])\n",
    "df_3.columns = ['Country_name', 'Airport_Code', 'Latitude', 'Longitude']\n",
    "\n",
    "# Read aircraft data and extract needed fields\n",
    "fields = ['code', 'range']\n",
    "df_4 = pd.read_csv(\"aircraft.csv\", skipinitialspace = True, usecols = fields)\n",
    "\n",
    "# Read test cases from csv file\n",
    "df_5 = pd.read_csv(\"test.csv\", header=None)"
   ]
  },
  {
   "cell_type": "markdown",
   "metadata": {},
   "source": [
    "### Merge fetched data in a new dataframe\n",
    "After having successfully imported external data, we proceed to merge the separated dataframes in a new dataframe object that we will work on."
   ]
  },
  {
   "cell_type": "code",
   "execution_count": 34,
   "metadata": {},
   "outputs": [],
   "source": [
    "# Merge currency rates and country dataframes\n",
    "merged_currency_country_exchange = pd.merge(df, df_2, how = 'inner', left_on = ['CurrencyCode'], right_on = ['currency_alphabetic_code'])"
   ]
  },
  {
   "cell_type": "code",
   "execution_count": 35,
   "metadata": {},
   "outputs": [],
   "source": [
    "# Merge the newly created dataframe with the airport information\n",
    "merged_currency_country_exchange_airport_info_lat_long = pd.merge(merged_currency_country_exchange, df_3, how = 'outer', left_on = ['name'], right_on = ['Country_name'])"
   ]
  },
  {
   "cell_type": "markdown",
   "metadata": {},
   "source": [
    "### Examine the new dataframe"
   ]
  },
  {
   "cell_type": "code",
   "execution_count": 36,
   "metadata": {
    "scrolled": true
   },
   "outputs": [
    {
     "name": "stdout",
     "output_type": "stream",
     "text": [
      "The dataset has 5855 rows and 8 columns.\n"
     ]
    }
   ],
   "source": [
    "print(\"The dataset has %s rows and %s columns.\" % merged_currency_country_exchange_airport_info_lat_long.shape)"
   ]
  },
  {
   "cell_type": "code",
   "execution_count": 37,
   "metadata": {},
   "outputs": [
    {
     "data": {
      "text/html": [
       "<div>\n",
       "<style scoped>\n",
       "    .dataframe tbody tr th:only-of-type {\n",
       "        vertical-align: middle;\n",
       "    }\n",
       "\n",
       "    .dataframe tbody tr th {\n",
       "        vertical-align: top;\n",
       "    }\n",
       "\n",
       "    .dataframe thead th {\n",
       "        text-align: right;\n",
       "    }\n",
       "</style>\n",
       "<table border=\"1\" class=\"dataframe\">\n",
       "  <thead>\n",
       "    <tr style=\"text-align: right;\">\n",
       "      <th></th>\n",
       "      <th>CurrencyCode</th>\n",
       "      <th>toEuro</th>\n",
       "      <th>name</th>\n",
       "      <th>currency_alphabetic_code</th>\n",
       "      <th>Country_name</th>\n",
       "      <th>Airport_Code</th>\n",
       "      <th>Latitude</th>\n",
       "      <th>Longitude</th>\n",
       "    </tr>\n",
       "  </thead>\n",
       "  <tbody>\n",
       "    <tr>\n",
       "      <th>0</th>\n",
       "      <td>AED</td>\n",
       "      <td>0.258400</td>\n",
       "      <td>United Arab Emirates</td>\n",
       "      <td>AED</td>\n",
       "      <td>United Arab Emirates</td>\n",
       "      <td>AUH</td>\n",
       "      <td>24.432972</td>\n",
       "      <td>54.651138</td>\n",
       "    </tr>\n",
       "    <tr>\n",
       "      <th>1</th>\n",
       "      <td>AED</td>\n",
       "      <td>0.258400</td>\n",
       "      <td>United Arab Emirates</td>\n",
       "      <td>AED</td>\n",
       "      <td>United Arab Emirates</td>\n",
       "      <td>AZI</td>\n",
       "      <td>24.428333</td>\n",
       "      <td>54.458084</td>\n",
       "    </tr>\n",
       "    <tr>\n",
       "      <th>2</th>\n",
       "      <td>AED</td>\n",
       "      <td>0.258400</td>\n",
       "      <td>United Arab Emirates</td>\n",
       "      <td>AED</td>\n",
       "      <td>United Arab Emirates</td>\n",
       "      <td>DXB</td>\n",
       "      <td>25.252778</td>\n",
       "      <td>55.364444</td>\n",
       "    </tr>\n",
       "    <tr>\n",
       "      <th>3</th>\n",
       "      <td>AED</td>\n",
       "      <td>0.258400</td>\n",
       "      <td>United Arab Emirates</td>\n",
       "      <td>AED</td>\n",
       "      <td>United Arab Emirates</td>\n",
       "      <td>FJR</td>\n",
       "      <td>25.112225</td>\n",
       "      <td>56.323964</td>\n",
       "    </tr>\n",
       "    <tr>\n",
       "      <th>4</th>\n",
       "      <td>AED</td>\n",
       "      <td>0.258400</td>\n",
       "      <td>United Arab Emirates</td>\n",
       "      <td>AED</td>\n",
       "      <td>United Arab Emirates</td>\n",
       "      <td>RKT</td>\n",
       "      <td>25.613483</td>\n",
       "      <td>55.938817</td>\n",
       "    </tr>\n",
       "    <tr>\n",
       "      <th>5</th>\n",
       "      <td>AED</td>\n",
       "      <td>0.258400</td>\n",
       "      <td>United Arab Emirates</td>\n",
       "      <td>AED</td>\n",
       "      <td>United Arab Emirates</td>\n",
       "      <td>SHJ</td>\n",
       "      <td>25.328575</td>\n",
       "      <td>55.517150</td>\n",
       "    </tr>\n",
       "    <tr>\n",
       "      <th>6</th>\n",
       "      <td>AED</td>\n",
       "      <td>0.258400</td>\n",
       "      <td>United Arab Emirates</td>\n",
       "      <td>AED</td>\n",
       "      <td>United Arab Emirates</td>\n",
       "      <td>AAN</td>\n",
       "      <td>24.261667</td>\n",
       "      <td>55.609167</td>\n",
       "    </tr>\n",
       "    <tr>\n",
       "      <th>7</th>\n",
       "      <td>AED</td>\n",
       "      <td>0.258400</td>\n",
       "      <td>United Arab Emirates</td>\n",
       "      <td>AED</td>\n",
       "      <td>United Arab Emirates</td>\n",
       "      <td>NHD</td>\n",
       "      <td>25.026940</td>\n",
       "      <td>55.366110</td>\n",
       "    </tr>\n",
       "    <tr>\n",
       "      <th>8</th>\n",
       "      <td>AED</td>\n",
       "      <td>0.258400</td>\n",
       "      <td>United Arab Emirates</td>\n",
       "      <td>AED</td>\n",
       "      <td>United Arab Emirates</td>\n",
       "      <td>DWC</td>\n",
       "      <td>24.550560</td>\n",
       "      <td>55.103174</td>\n",
       "    </tr>\n",
       "    <tr>\n",
       "      <th>9</th>\n",
       "      <td>AED</td>\n",
       "      <td>0.258400</td>\n",
       "      <td>United Arab Emirates</td>\n",
       "      <td>AED</td>\n",
       "      <td>United Arab Emirates</td>\n",
       "      <td>XSB</td>\n",
       "      <td>24.285608</td>\n",
       "      <td>52.578347</td>\n",
       "    </tr>\n",
       "    <tr>\n",
       "      <th>10</th>\n",
       "      <td>AED</td>\n",
       "      <td>0.258400</td>\n",
       "      <td>United Arab Emirates</td>\n",
       "      <td>AED</td>\n",
       "      <td>United Arab Emirates</td>\n",
       "      <td>ZDY</td>\n",
       "      <td>24.503383</td>\n",
       "      <td>52.336053</td>\n",
       "    </tr>\n",
       "    <tr>\n",
       "      <th>11</th>\n",
       "      <td>AFN</td>\n",
       "      <td>0.016440</td>\n",
       "      <td>Afghanistan</td>\n",
       "      <td>AFN</td>\n",
       "      <td>Afghanistan</td>\n",
       "      <td>HEA</td>\n",
       "      <td>34.210017</td>\n",
       "      <td>62.228300</td>\n",
       "    </tr>\n",
       "    <tr>\n",
       "      <th>12</th>\n",
       "      <td>AFN</td>\n",
       "      <td>0.016440</td>\n",
       "      <td>Afghanistan</td>\n",
       "      <td>AFN</td>\n",
       "      <td>Afghanistan</td>\n",
       "      <td>JAA</td>\n",
       "      <td>34.399842</td>\n",
       "      <td>70.498625</td>\n",
       "    </tr>\n",
       "    <tr>\n",
       "      <th>13</th>\n",
       "      <td>AFN</td>\n",
       "      <td>0.016440</td>\n",
       "      <td>Afghanistan</td>\n",
       "      <td>AFN</td>\n",
       "      <td>Afghanistan</td>\n",
       "      <td>KBL</td>\n",
       "      <td>34.565853</td>\n",
       "      <td>69.212328</td>\n",
       "    </tr>\n",
       "    <tr>\n",
       "      <th>14</th>\n",
       "      <td>AFN</td>\n",
       "      <td>0.016440</td>\n",
       "      <td>Afghanistan</td>\n",
       "      <td>AFN</td>\n",
       "      <td>Afghanistan</td>\n",
       "      <td>KDH</td>\n",
       "      <td>31.505756</td>\n",
       "      <td>65.847822</td>\n",
       "    </tr>\n",
       "    <tr>\n",
       "      <th>15</th>\n",
       "      <td>AFN</td>\n",
       "      <td>0.016440</td>\n",
       "      <td>Afghanistan</td>\n",
       "      <td>AFN</td>\n",
       "      <td>Afghanistan</td>\n",
       "      <td>MMZ</td>\n",
       "      <td>35.930789</td>\n",
       "      <td>64.760917</td>\n",
       "    </tr>\n",
       "    <tr>\n",
       "      <th>16</th>\n",
       "      <td>AFN</td>\n",
       "      <td>0.016440</td>\n",
       "      <td>Afghanistan</td>\n",
       "      <td>AFN</td>\n",
       "      <td>Afghanistan</td>\n",
       "      <td>MZR</td>\n",
       "      <td>36.706914</td>\n",
       "      <td>67.209678</td>\n",
       "    </tr>\n",
       "    <tr>\n",
       "      <th>17</th>\n",
       "      <td>AFN</td>\n",
       "      <td>0.016440</td>\n",
       "      <td>Afghanistan</td>\n",
       "      <td>AFN</td>\n",
       "      <td>Afghanistan</td>\n",
       "      <td>UND</td>\n",
       "      <td>36.665111</td>\n",
       "      <td>68.910833</td>\n",
       "    </tr>\n",
       "    <tr>\n",
       "      <th>18</th>\n",
       "      <td>AFN</td>\n",
       "      <td>0.016440</td>\n",
       "      <td>Afghanistan</td>\n",
       "      <td>AFN</td>\n",
       "      <td>Afghanistan</td>\n",
       "      <td>FBD</td>\n",
       "      <td>37.121100</td>\n",
       "      <td>70.518100</td>\n",
       "    </tr>\n",
       "    <tr>\n",
       "      <th>19</th>\n",
       "      <td>AFN</td>\n",
       "      <td>0.016440</td>\n",
       "      <td>Afghanistan</td>\n",
       "      <td>AFN</td>\n",
       "      <td>Afghanistan</td>\n",
       "      <td>BPM</td>\n",
       "      <td>34.564600</td>\n",
       "      <td>69.155400</td>\n",
       "    </tr>\n",
       "    <tr>\n",
       "      <th>20</th>\n",
       "      <td>AFN</td>\n",
       "      <td>0.016440</td>\n",
       "      <td>Afghanistan</td>\n",
       "      <td>AFN</td>\n",
       "      <td>Afghanistan</td>\n",
       "      <td>TII</td>\n",
       "      <td>32.605278</td>\n",
       "      <td>65.864167</td>\n",
       "    </tr>\n",
       "    <tr>\n",
       "      <th>21</th>\n",
       "      <td>AFN</td>\n",
       "      <td>0.016440</td>\n",
       "      <td>Afghanistan</td>\n",
       "      <td>AFN</td>\n",
       "      <td>Afghanistan</td>\n",
       "      <td>ZAJ</td>\n",
       "      <td>30.969167</td>\n",
       "      <td>61.866944</td>\n",
       "    </tr>\n",
       "    <tr>\n",
       "      <th>22</th>\n",
       "      <td>AFN</td>\n",
       "      <td>0.016440</td>\n",
       "      <td>Afghanistan</td>\n",
       "      <td>AFN</td>\n",
       "      <td>Afghanistan</td>\n",
       "      <td>CCN</td>\n",
       "      <td>34.526667</td>\n",
       "      <td>65.271667</td>\n",
       "    </tr>\n",
       "    <tr>\n",
       "      <th>23</th>\n",
       "      <td>AFN</td>\n",
       "      <td>0.016440</td>\n",
       "      <td>Afghanistan</td>\n",
       "      <td>AFN</td>\n",
       "      <td>Afghanistan</td>\n",
       "      <td>KHT</td>\n",
       "      <td>33.333400</td>\n",
       "      <td>69.952000</td>\n",
       "    </tr>\n",
       "    <tr>\n",
       "      <th>24</th>\n",
       "      <td>AFN</td>\n",
       "      <td>0.016440</td>\n",
       "      <td>Afghanistan</td>\n",
       "      <td>AFN</td>\n",
       "      <td>Afghanistan</td>\n",
       "      <td>AZ3</td>\n",
       "      <td>33.127721</td>\n",
       "      <td>68.836985</td>\n",
       "    </tr>\n",
       "    <tr>\n",
       "      <th>25</th>\n",
       "      <td>AFN</td>\n",
       "      <td>0.016440</td>\n",
       "      <td>Afghanistan</td>\n",
       "      <td>AFN</td>\n",
       "      <td>Afghanistan</td>\n",
       "      <td>BST</td>\n",
       "      <td>31.558889</td>\n",
       "      <td>64.364167</td>\n",
       "    </tr>\n",
       "    <tr>\n",
       "      <th>26</th>\n",
       "      <td>AFN</td>\n",
       "      <td>0.016440</td>\n",
       "      <td>Afghanistan</td>\n",
       "      <td>AFN</td>\n",
       "      <td>Afghanistan</td>\n",
       "      <td>BIN</td>\n",
       "      <td>34.816667</td>\n",
       "      <td>67.816667</td>\n",
       "    </tr>\n",
       "    <tr>\n",
       "      <th>27</th>\n",
       "      <td>ALL</td>\n",
       "      <td>0.007237</td>\n",
       "      <td>Albania</td>\n",
       "      <td>ALL</td>\n",
       "      <td>Albania</td>\n",
       "      <td>TIA</td>\n",
       "      <td>41.414742</td>\n",
       "      <td>19.720561</td>\n",
       "    </tr>\n",
       "    <tr>\n",
       "      <th>28</th>\n",
       "      <td>AMD</td>\n",
       "      <td>0.001981</td>\n",
       "      <td>Armenia</td>\n",
       "      <td>AMD</td>\n",
       "      <td>Armenia</td>\n",
       "      <td>EVN</td>\n",
       "      <td>40.147275</td>\n",
       "      <td>44.395881</td>\n",
       "    </tr>\n",
       "    <tr>\n",
       "      <th>29</th>\n",
       "      <td>AMD</td>\n",
       "      <td>0.001981</td>\n",
       "      <td>Armenia</td>\n",
       "      <td>AMD</td>\n",
       "      <td>Armenia</td>\n",
       "      <td>LWN</td>\n",
       "      <td>40.750369</td>\n",
       "      <td>43.859342</td>\n",
       "    </tr>\n",
       "    <tr>\n",
       "      <th>30</th>\n",
       "      <td>ANG</td>\n",
       "      <td>0.533100</td>\n",
       "      <td>Curacao</td>\n",
       "      <td>ANG</td>\n",
       "      <td>Curacao</td>\n",
       "      <td>CUR</td>\n",
       "      <td>12.188853</td>\n",
       "      <td>-68.959803</td>\n",
       "    </tr>\n",
       "    <tr>\n",
       "      <th>31</th>\n",
       "      <td>ANG</td>\n",
       "      <td>0.533100</td>\n",
       "      <td>Sint Maarten</td>\n",
       "      <td>ANG</td>\n",
       "      <td>Sint Maarten</td>\n",
       "      <td>SXM</td>\n",
       "      <td>18.040953</td>\n",
       "      <td>-63.108900</td>\n",
       "    </tr>\n",
       "    <tr>\n",
       "      <th>32</th>\n",
       "      <td>AOA</td>\n",
       "      <td>0.008944</td>\n",
       "      <td>Angola</td>\n",
       "      <td>AOA</td>\n",
       "      <td>Angola</td>\n",
       "      <td>SSY</td>\n",
       "      <td>-6.269897</td>\n",
       "      <td>14.247025</td>\n",
       "    </tr>\n",
       "    <tr>\n",
       "      <th>33</th>\n",
       "      <td>AOA</td>\n",
       "      <td>0.008944</td>\n",
       "      <td>Angola</td>\n",
       "      <td>AOA</td>\n",
       "      <td>Angola</td>\n",
       "      <td>BUG</td>\n",
       "      <td>-12.609025</td>\n",
       "      <td>13.403711</td>\n",
       "    </tr>\n",
       "    <tr>\n",
       "      <th>34</th>\n",
       "      <td>AOA</td>\n",
       "      <td>0.008944</td>\n",
       "      <td>Angola</td>\n",
       "      <td>AOA</td>\n",
       "      <td>Angola</td>\n",
       "      <td>CAB</td>\n",
       "      <td>-5.596992</td>\n",
       "      <td>12.188353</td>\n",
       "    </tr>\n",
       "    <tr>\n",
       "      <th>35</th>\n",
       "      <td>AOA</td>\n",
       "      <td>0.008944</td>\n",
       "      <td>Angola</td>\n",
       "      <td>AOA</td>\n",
       "      <td>Angola</td>\n",
       "      <td>NOV</td>\n",
       "      <td>-12.808878</td>\n",
       "      <td>15.760547</td>\n",
       "    </tr>\n",
       "    <tr>\n",
       "      <th>36</th>\n",
       "      <td>AOA</td>\n",
       "      <td>0.008944</td>\n",
       "      <td>Angola</td>\n",
       "      <td>AOA</td>\n",
       "      <td>Angola</td>\n",
       "      <td>SVP</td>\n",
       "      <td>-12.404633</td>\n",
       "      <td>16.947414</td>\n",
       "    </tr>\n",
       "    <tr>\n",
       "      <th>37</th>\n",
       "      <td>AOA</td>\n",
       "      <td>0.008944</td>\n",
       "      <td>Angola</td>\n",
       "      <td>AOA</td>\n",
       "      <td>Angola</td>\n",
       "      <td>LAD</td>\n",
       "      <td>-8.858375</td>\n",
       "      <td>13.231178</td>\n",
       "    </tr>\n",
       "    <tr>\n",
       "      <th>38</th>\n",
       "      <td>AOA</td>\n",
       "      <td>0.008944</td>\n",
       "      <td>Angola</td>\n",
       "      <td>AOA</td>\n",
       "      <td>Angola</td>\n",
       "      <td>MEG</td>\n",
       "      <td>-9.525086</td>\n",
       "      <td>16.312406</td>\n",
       "    </tr>\n",
       "    <tr>\n",
       "      <th>39</th>\n",
       "      <td>AOA</td>\n",
       "      <td>0.008944</td>\n",
       "      <td>Angola</td>\n",
       "      <td>AOA</td>\n",
       "      <td>Angola</td>\n",
       "      <td>SPP</td>\n",
       "      <td>-14.657583</td>\n",
       "      <td>17.719833</td>\n",
       "    </tr>\n",
       "    <tr>\n",
       "      <th>40</th>\n",
       "      <td>AOA</td>\n",
       "      <td>0.008944</td>\n",
       "      <td>Angola</td>\n",
       "      <td>AOA</td>\n",
       "      <td>Angola</td>\n",
       "      <td>GXG</td>\n",
       "      <td>-7.754506</td>\n",
       "      <td>15.287728</td>\n",
       "    </tr>\n",
       "    <tr>\n",
       "      <th>41</th>\n",
       "      <td>AOA</td>\n",
       "      <td>0.008944</td>\n",
       "      <td>Angola</td>\n",
       "      <td>AOA</td>\n",
       "      <td>Angola</td>\n",
       "      <td>PBN</td>\n",
       "      <td>-10.721956</td>\n",
       "      <td>13.765528</td>\n",
       "    </tr>\n",
       "    <tr>\n",
       "      <th>42</th>\n",
       "      <td>AOA</td>\n",
       "      <td>0.008944</td>\n",
       "      <td>Angola</td>\n",
       "      <td>AOA</td>\n",
       "      <td>Angola</td>\n",
       "      <td>VHC</td>\n",
       "      <td>-9.689067</td>\n",
       "      <td>20.431875</td>\n",
       "    </tr>\n",
       "    <tr>\n",
       "      <th>43</th>\n",
       "      <td>AOA</td>\n",
       "      <td>0.008944</td>\n",
       "      <td>Angola</td>\n",
       "      <td>AOA</td>\n",
       "      <td>Angola</td>\n",
       "      <td>SZA</td>\n",
       "      <td>-6.141086</td>\n",
       "      <td>12.371764</td>\n",
       "    </tr>\n",
       "    <tr>\n",
       "      <th>44</th>\n",
       "      <td>AOA</td>\n",
       "      <td>0.008944</td>\n",
       "      <td>Angola</td>\n",
       "      <td>AOA</td>\n",
       "      <td>Angola</td>\n",
       "      <td>SDD</td>\n",
       "      <td>-14.924733</td>\n",
       "      <td>13.575022</td>\n",
       "    </tr>\n",
       "    <tr>\n",
       "      <th>45</th>\n",
       "      <td>AOA</td>\n",
       "      <td>0.008944</td>\n",
       "      <td>Angola</td>\n",
       "      <td>AOA</td>\n",
       "      <td>Angola</td>\n",
       "      <td>LUO</td>\n",
       "      <td>-11.768086</td>\n",
       "      <td>19.897672</td>\n",
       "    </tr>\n",
       "    <tr>\n",
       "      <th>46</th>\n",
       "      <td>AOA</td>\n",
       "      <td>0.008944</td>\n",
       "      <td>Angola</td>\n",
       "      <td>AOA</td>\n",
       "      <td>Angola</td>\n",
       "      <td>UGO</td>\n",
       "      <td>-7.603067</td>\n",
       "      <td>15.027822</td>\n",
       "    </tr>\n",
       "    <tr>\n",
       "      <th>47</th>\n",
       "      <td>AOA</td>\n",
       "      <td>0.008944</td>\n",
       "      <td>Angola</td>\n",
       "      <td>AOA</td>\n",
       "      <td>Angola</td>\n",
       "      <td>XGN</td>\n",
       "      <td>-16.755417</td>\n",
       "      <td>14.965344</td>\n",
       "    </tr>\n",
       "    <tr>\n",
       "      <th>48</th>\n",
       "      <td>AOA</td>\n",
       "      <td>0.008944</td>\n",
       "      <td>Angola</td>\n",
       "      <td>AOA</td>\n",
       "      <td>Angola</td>\n",
       "      <td>MSZ</td>\n",
       "      <td>-15.261222</td>\n",
       "      <td>12.146756</td>\n",
       "    </tr>\n",
       "    <tr>\n",
       "      <th>49</th>\n",
       "      <td>AOA</td>\n",
       "      <td>0.008944</td>\n",
       "      <td>Angola</td>\n",
       "      <td>AOA</td>\n",
       "      <td>Angola</td>\n",
       "      <td>VPE</td>\n",
       "      <td>-17.043464</td>\n",
       "      <td>15.683822</td>\n",
       "    </tr>\n",
       "  </tbody>\n",
       "</table>\n",
       "</div>"
      ],
      "text/plain": [
       "   CurrencyCode    toEuro                  name currency_alphabetic_code  \\\n",
       "0           AED  0.258400  United Arab Emirates                      AED   \n",
       "1           AED  0.258400  United Arab Emirates                      AED   \n",
       "2           AED  0.258400  United Arab Emirates                      AED   \n",
       "3           AED  0.258400  United Arab Emirates                      AED   \n",
       "4           AED  0.258400  United Arab Emirates                      AED   \n",
       "5           AED  0.258400  United Arab Emirates                      AED   \n",
       "6           AED  0.258400  United Arab Emirates                      AED   \n",
       "7           AED  0.258400  United Arab Emirates                      AED   \n",
       "8           AED  0.258400  United Arab Emirates                      AED   \n",
       "9           AED  0.258400  United Arab Emirates                      AED   \n",
       "10          AED  0.258400  United Arab Emirates                      AED   \n",
       "11          AFN  0.016440           Afghanistan                      AFN   \n",
       "12          AFN  0.016440           Afghanistan                      AFN   \n",
       "13          AFN  0.016440           Afghanistan                      AFN   \n",
       "14          AFN  0.016440           Afghanistan                      AFN   \n",
       "15          AFN  0.016440           Afghanistan                      AFN   \n",
       "16          AFN  0.016440           Afghanistan                      AFN   \n",
       "17          AFN  0.016440           Afghanistan                      AFN   \n",
       "18          AFN  0.016440           Afghanistan                      AFN   \n",
       "19          AFN  0.016440           Afghanistan                      AFN   \n",
       "20          AFN  0.016440           Afghanistan                      AFN   \n",
       "21          AFN  0.016440           Afghanistan                      AFN   \n",
       "22          AFN  0.016440           Afghanistan                      AFN   \n",
       "23          AFN  0.016440           Afghanistan                      AFN   \n",
       "24          AFN  0.016440           Afghanistan                      AFN   \n",
       "25          AFN  0.016440           Afghanistan                      AFN   \n",
       "26          AFN  0.016440           Afghanistan                      AFN   \n",
       "27          ALL  0.007237               Albania                      ALL   \n",
       "28          AMD  0.001981               Armenia                      AMD   \n",
       "29          AMD  0.001981               Armenia                      AMD   \n",
       "30          ANG  0.533100               Curacao                      ANG   \n",
       "31          ANG  0.533100          Sint Maarten                      ANG   \n",
       "32          AOA  0.008944                Angola                      AOA   \n",
       "33          AOA  0.008944                Angola                      AOA   \n",
       "34          AOA  0.008944                Angola                      AOA   \n",
       "35          AOA  0.008944                Angola                      AOA   \n",
       "36          AOA  0.008944                Angola                      AOA   \n",
       "37          AOA  0.008944                Angola                      AOA   \n",
       "38          AOA  0.008944                Angola                      AOA   \n",
       "39          AOA  0.008944                Angola                      AOA   \n",
       "40          AOA  0.008944                Angola                      AOA   \n",
       "41          AOA  0.008944                Angola                      AOA   \n",
       "42          AOA  0.008944                Angola                      AOA   \n",
       "43          AOA  0.008944                Angola                      AOA   \n",
       "44          AOA  0.008944                Angola                      AOA   \n",
       "45          AOA  0.008944                Angola                      AOA   \n",
       "46          AOA  0.008944                Angola                      AOA   \n",
       "47          AOA  0.008944                Angola                      AOA   \n",
       "48          AOA  0.008944                Angola                      AOA   \n",
       "49          AOA  0.008944                Angola                      AOA   \n",
       "\n",
       "            Country_name Airport_Code   Latitude  Longitude  \n",
       "0   United Arab Emirates          AUH  24.432972  54.651138  \n",
       "1   United Arab Emirates          AZI  24.428333  54.458084  \n",
       "2   United Arab Emirates          DXB  25.252778  55.364444  \n",
       "3   United Arab Emirates          FJR  25.112225  56.323964  \n",
       "4   United Arab Emirates          RKT  25.613483  55.938817  \n",
       "5   United Arab Emirates          SHJ  25.328575  55.517150  \n",
       "6   United Arab Emirates          AAN  24.261667  55.609167  \n",
       "7   United Arab Emirates          NHD  25.026940  55.366110  \n",
       "8   United Arab Emirates          DWC  24.550560  55.103174  \n",
       "9   United Arab Emirates          XSB  24.285608  52.578347  \n",
       "10  United Arab Emirates          ZDY  24.503383  52.336053  \n",
       "11           Afghanistan          HEA  34.210017  62.228300  \n",
       "12           Afghanistan          JAA  34.399842  70.498625  \n",
       "13           Afghanistan          KBL  34.565853  69.212328  \n",
       "14           Afghanistan          KDH  31.505756  65.847822  \n",
       "15           Afghanistan          MMZ  35.930789  64.760917  \n",
       "16           Afghanistan          MZR  36.706914  67.209678  \n",
       "17           Afghanistan          UND  36.665111  68.910833  \n",
       "18           Afghanistan          FBD  37.121100  70.518100  \n",
       "19           Afghanistan          BPM  34.564600  69.155400  \n",
       "20           Afghanistan          TII  32.605278  65.864167  \n",
       "21           Afghanistan          ZAJ  30.969167  61.866944  \n",
       "22           Afghanistan          CCN  34.526667  65.271667  \n",
       "23           Afghanistan          KHT  33.333400  69.952000  \n",
       "24           Afghanistan          AZ3  33.127721  68.836985  \n",
       "25           Afghanistan          BST  31.558889  64.364167  \n",
       "26           Afghanistan          BIN  34.816667  67.816667  \n",
       "27               Albania          TIA  41.414742  19.720561  \n",
       "28               Armenia          EVN  40.147275  44.395881  \n",
       "29               Armenia          LWN  40.750369  43.859342  \n",
       "30               Curacao          CUR  12.188853 -68.959803  \n",
       "31          Sint Maarten          SXM  18.040953 -63.108900  \n",
       "32                Angola          SSY  -6.269897  14.247025  \n",
       "33                Angola          BUG -12.609025  13.403711  \n",
       "34                Angola          CAB  -5.596992  12.188353  \n",
       "35                Angola          NOV -12.808878  15.760547  \n",
       "36                Angola          SVP -12.404633  16.947414  \n",
       "37                Angola          LAD  -8.858375  13.231178  \n",
       "38                Angola          MEG  -9.525086  16.312406  \n",
       "39                Angola          SPP -14.657583  17.719833  \n",
       "40                Angola          GXG  -7.754506  15.287728  \n",
       "41                Angola          PBN -10.721956  13.765528  \n",
       "42                Angola          VHC  -9.689067  20.431875  \n",
       "43                Angola          SZA  -6.141086  12.371764  \n",
       "44                Angola          SDD -14.924733  13.575022  \n",
       "45                Angola          LUO -11.768086  19.897672  \n",
       "46                Angola          UGO  -7.603067  15.027822  \n",
       "47                Angola          XGN -16.755417  14.965344  \n",
       "48                Angola          MSZ -15.261222  12.146756  \n",
       "49                Angola          VPE -17.043464  15.683822  "
      ]
     },
     "execution_count": 37,
     "metadata": {},
     "output_type": "execute_result"
    }
   ],
   "source": [
    "# Show dataframe first 50 rows\n",
    "merged_currency_country_exchange_airport_info_lat_long.head(50)"
   ]
  },
  {
   "cell_type": "markdown",
   "metadata": {},
   "source": [
    "### Drop unwanted / unneccessary values"
   ]
  },
  {
   "cell_type": "code",
   "execution_count": 38,
   "metadata": {},
   "outputs": [],
   "source": [
    "# Drop 'na' values\n",
    "merged_currency_country_exchange_airport_info_lat_long.dropna(how = 'any',inplace = True) "
   ]
  },
  {
   "cell_type": "markdown",
   "metadata": {},
   "source": [
    "### Drop redundant columns\n",
    "After merging, we have redundant columns in our dataframe that should be dropped."
   ]
  },
  {
   "cell_type": "code",
   "execution_count": 39,
   "metadata": {},
   "outputs": [],
   "source": [
    "# Drop currency alphabetic code\n",
    "merged_currency_country_exchange_airport_info_lat_long = merged_currency_country_exchange_airport_info_lat_long.drop('currency_alphabetic_code', 1)"
   ]
  },
  {
   "cell_type": "code",
   "execution_count": 40,
   "metadata": {},
   "outputs": [],
   "source": [
    "# Drop country name\n",
    "merged_currency_country_exchange_airport_info_lat_long = merged_currency_country_exchange_airport_info_lat_long.drop('name', 1)"
   ]
  },
  {
   "cell_type": "code",
   "execution_count": 41,
   "metadata": {},
   "outputs": [
    {
     "name": "stdout",
     "output_type": "stream",
     "text": [
      "The dataset has now 5832 rows and 6 columns.\n"
     ]
    }
   ],
   "source": [
    "print(\"The dataset has now %s rows and %s columns.\" % merged_currency_country_exchange_airport_info_lat_long.shape)"
   ]
  },
  {
   "cell_type": "markdown",
   "metadata": {},
   "source": [
    "## Generate and populate the data structure\n",
    "Now that we fetched our data in Pandas dataframe objects, we can now store them in the two data structures compared in this Notebook, testing the time they take to organize the same data.\n",
    "\n",
    "We will populate the two data structures with the following data fields:\n",
    "- **airport IATA code**\n",
    "- **airport latitude**\n",
    "- **airport longitude**\n",
    "- **country currency code**\n",
    "- **country exchange rate**\n",
    "- **country extended name**\n",
    "\n",
    "We will also test the amount of time required by the interpreter to generate and populate the data structures.<br/><br/>\n",
    "**N.B.**: to populate our airport atlas data structures, we need to iterate over all the rows in our dataframe - by means of a **single for loop** -  so that the upper-bound time complexity is **O(n)**."
   ]
  },
  {
   "cell_type": "markdown",
   "metadata": {},
   "source": [
    "### Python list\n",
    "We store our airport atlas using a list: all data fields will be list items accessible by indices.<br/>\n",
    "Since Python treats lists as dynamic arrays, it allocates memory dynamically as the list size grows - capacity is always greater than equal than the list size.\n",
    "We bypass this \"pythonic\" behaviour by **limiting the list to a fixed size**, given by the amount of rows in the airport dataframe.\n",
    "This way, we ensure list are treated as **classic fixed-size arrays**.<br/>\n",
    "\n",
    "What we obtain is thus a multidimensional list, or a \"list of lists\", where the rows are represented by the n-outer list elements consisting of m items each, with m = number of columns in our dataframe."
   ]
  },
  {
   "cell_type": "code",
   "execution_count": 195,
   "metadata": {},
   "outputs": [
    {
     "name": "stdout",
     "output_type": "stream",
     "text": [
      "CPU times: user 561 ms, sys: 19.2 ms, total: 580 ms\n",
      "Wall time: 593 ms\n"
     ]
    }
   ],
   "source": [
    "%%time\n",
    "\n",
    "# First element in shape tuple is the number of rows\n",
    "count_row = merged_currency_country_exchange_airport_info_lat_long.shape[0]\n",
    "\n",
    "# Ensure better memory consumption\n",
    "# Size already pre-defined so that there is no uneccesary waste of memory\n",
    "list_alternative_to_dictionary = [0] * count_row\n",
    "\n",
    "# Add data items iterating over dataframe rows\n",
    "i = 0\n",
    "for index, row in merged_currency_country_exchange_airport_info_lat_long.iterrows():\n",
    "    list_alternative_to_dictionary[i] = [row['Airport_Code'], row['Latitude'], row['Longitude'], row['CurrencyCode'], row['toEuro'], row['Country_name']]\n",
    "    i += 1\n",
    "    \n",
    "\n",
    "#print(list_alternative_to_dictionary)"
   ]
  },
  {
   "cell_type": "markdown",
   "metadata": {},
   "source": [
    "### Python dictionary\n",
    "In order to populate our new dictionary, we will use the airport IATA code as the unique key. It will act as a reference every time we will need to search for an airport information.\n",
    "Our solution is in some way an hybrid between arrays and hash tables, as the dictionary values will be lists, with each list item representing all the other information we need."
   ]
  },
  {
   "cell_type": "code",
   "execution_count": 304,
   "metadata": {
    "scrolled": false
   },
   "outputs": [
    {
     "name": "stdout",
     "output_type": "stream",
     "text": [
      "CPU times: user 786 ms, sys: 151 ms, total: 937 ms\n",
      "Wall time: 1.07 s\n"
     ]
    }
   ],
   "source": [
    "%%time\n",
    "\n",
    "# Initialize empty dictionary\n",
    "dictionary = {}\n",
    "\n",
    "# Add data items iterating over dataframe rows\n",
    "for index, row in merged_currency_country_exchange_airport_info_lat_long.iterrows():\n",
    "     dictionary[row['Airport_Code']] = [row['Latitude'], row['Longitude'],row['CurrencyCode'],row['toEuro'],row['Country_name']]\n",
    "#print(dictionary)        "
   ]
  },
  {
   "cell_type": "markdown",
   "metadata": {},
   "source": [
    "In order to gain a comprehensive view of our dictionary, we run the following command which output shows all the keys stored in it:"
   ]
  },
  {
   "cell_type": "code",
   "execution_count": 137,
   "metadata": {},
   "outputs": [
    {
     "name": "stdout",
     "output_type": "stream",
     "text": [
      "dict_keys(['AUH', 'AZI', 'DXB', 'FJR', 'RKT', 'SHJ', 'AAN', 'NHD', 'DWC', 'XSB', 'ZDY', 'HEA', 'JAA', 'KBL', 'KDH', 'MMZ', 'MZR', 'UND', 'FBD', 'BPM', 'TII', 'ZAJ', 'CCN', 'KHT', 'AZ3', 'BST', 'BIN', 'TIA', 'EVN', 'LWN', 'CUR', 'SXM', 'SSY', 'BUG', 'CAB', 'NOV', 'SVP', 'LAD', 'MEG', 'SPP', 'GXG', 'PBN', 'VHC', 'SZA', 'SDD', 'LUO', 'UGO', 'XGN', 'MSZ', 'VPE', 'DUE', 'CBT', 'LBZ', 'KNP', 'RAF', 'COC', 'GHU', 'PRA', 'ROS', 'SFN', 'AEP', 'COR', 'LPG', 'MDZ', 'LGS', 'AFA', 'CTC', 'SDE', 'IRJ', 'TUC', 'UAQ', 'RCU', 'VDR', 'LUQ', 'CNQ', 'RES', 'FMA', 'IGR', 'AOL', 'PSS', 'SLA', 'JUJ', 'ORA', 'EHL', 'CRD', 'EQS', 'REL', 'VDM', 'PMY', 'PUD', 'RGA', 'RGL', 'USH', 'ULA', 'PMQ', 'RZA', 'BHI', 'MDQ', 'NQN', 'RSA', 'BRC', 'TDL', 'VLG', 'CPC', 'EZE', 'FTE', 'SST', 'GGS', 'OES', 'LHS', 'TTG', 'NEC', 'ING', 'APZ', 'RDS', 'OLN', 'RYO', 'CVI', 'SGV', 'IGB', 'ELX', 'RLO', 'ARR', 'JSM', 'CFX', 'RHD', 'MTL', 'DGE', 'WSY', 'NSO', 'CES', 'OKB', 'ABM', 'ASP', 'BNE', 'OOL', 'CNS', 'CTL', 'ISA', 'MCY', 'MKY', 'PPP', 'ROK', 'TSV', 'WEI', 'AVV', 'ABX', 'MEB', 'HBA', 'LST', 'MBW', 'MEL', 'ADL', 'JAD', 'KTA', 'KGI', 'KNX', 'LEA', 'PHE', 'PER', 'UMR', 'BWU', 'CBR', 'CFS', 'CDU', 'DBO', 'RCM', 'TMW', 'WGA', 'EMD', 'DRW', 'AYQ', 'KGC', 'HVB', 'ARM', 'BKQ', 'BDB', 'HIS', 'THG', 'BNK', 'BME', 'NTL', 'GUL', 'ALH', 'GYL', 'AUU', 'BCI', 'BDD', 'BVI', 'BHQ', 'HTI', 'BEU', 'BRK', 'BUC', 'GIC', 'OKY', 'BQL', 'BHS', 'BLT', 'CVQ', 'CAZ', 'CPD', 'CNC', 'CNJ', 'CED', 'CTN', 'CMA', 'CNB', 'CUQ', 'OOM', 'DMD', 'NLF', 'DPO', 'ELC', 'EPR', 'FLS', 'GET', 'GLT', 'GTE', 'GFF', 'HID', 'HOK', 'MHU', 'HGD', 'JCK', 'KAX', 'KNS', 'KFG', 'KRB', 'KWM', 'KUG', 'LNO', 'LEL', 'LDH', 'IRG', 'LSY', 'LHG', 'LRE', 'LER', 'LVO', 'UBB', 'MKR', 'MIM', 'MGT', 'MNG', 'MCV', 'MQL', 'MMG', 'MRZ', 'MOV', 'MYA', 'MGB', 'ONG', 'MYI', 'MBH', 'NRA', 'NAA', 'NTN', 'ZNE', 'OLP', 'PUG', 'PMK', 'PBO', 'GOV', 'PKE', 'PLO', 'EDR', 'PQQ', 'PTJ', 'ULP', 'RAM', 'RMA', 'SGO', 'MJK', 'SBR', 'SRN', 'XTG', 'TCA', 'VCD', 'SYU', 'WNR', 'WYA', 'WUN', 'WOL', 'WIN', 'BWT', 'OKR', 'XMY', 'WME', 'NOA', 'KTR', 'TRO', 'OAG', 'GFN', 'TWB', 'BWB', 'MWB', 'EXM', 'DRB', 'WGE', 'BRT', 'DKI', 'LZR', 'HLT', 'HCQ', 'FIZ', 'RVT', 'HRN', 'LYT', 'ORS', 'GEX', 'PEA', 'CDA', 'JAB', 'TEF', 'RMK', 'XMC', 'YUE', 'GKL', 'RPB', 'IFL', 'MOO', 'ONS', 'TDR', 'CCL', 'JHQ', 'SHT', 'TEM', 'GAH', 'WIO', 'BEO', 'BMP', 'BQB', 'IVR', 'GLI', 'KFE', 'SLJ', 'COJ', 'BSJ', 'PXH', 'XCH', 'CCK', 'TRW', 'TBF', 'CIS', 'CXI', 'ABF', 'MZK', 'AEA', 'AAK', 'KUC', 'AIS', 'TMN', 'BEZ', 'NIG', 'BBG', 'MTK', 'MNK', 'NON', 'TSU', 'INU', 'NLK', 'FUN', 'AUA', 'GYD', 'BAK', 'NAJ', 'KVD', 'LLK', 'GBB', 'ZTU', 'OMO', 'SJJ', 'BNX', 'BGI', 'CXB', 'CGP', 'IRD', 'JSR', 'RJH', 'SPD', 'ZYL', 'DAC', 'BZL', 'BOJ', 'GOZ', 'PDV', 'SOF', 'VAR', 'HKV', 'BAH', 'BJM', 'BDA', 'BWN', 'BJO', 'CBB', 'CIJ', 'LPB', 'POI', 'PSZ', 'SRE', 'TJA', 'TDD', 'VVI', 'BYC', 'SRZ', 'REY', 'PUR', 'SRJ', 'RIB', 'GYA', 'UYU', 'RBQ', 'CDJ', 'AQA', 'AJU', 'AFL', 'ARU', 'BEL', 'BGX', 'PLU', 'BFH', 'BSB', 'BAU', 'BVB', 'CAC', 'CNF', 'CGR', 'XAP', 'CLN', 'CCM', 'CAW', 'CMG', 'CWB', 'CRQ', 'CXJ', 'CGB', 'CZS', 'PPB', 'MAO', 'IGU', 'FLN', 'FEN', 'FOR', 'GIG', 'GYN', 'GRU', 'ATM', 'IOS', 'IPN', 'IMP', 'JDF', 'JPA', 'JOI', 'CPV', 'VCP', 'LIP', 'LDB', 'LAZ', 'MAB', 'MGF', 'MOC', 'MCZ', 'MCP', 'MNX', 'NVT', 'GEL', 'NAT', 'POA', 'POO', 'PFB', 'PET', 'PNZ', 'PNB', 'PMG', 'PVH', 'RBR', 'REC', 'RIG', 'SDU', 'RAO', 'STU', 'SJK', 'SLZ', 'CGH', 'SJP', 'SSZ', 'SSA', 'TMT', 'THE', 'TFF', 'TBT', 'TUR', 'PAV', 'URG', 'UDI', 'UBA', 'VAG', 'BVH', 'VIX', 'QPS', 'STM', 'BPS', 'PMW', 'CLV', 'JPR', 'MVS', 'TOW', 'RIA', 'LEC', 'JDO', 'SRA', 'SOD', 'VDC', 'MII', 'MEA', 'ERM', 'JDR', 'GVR', 'CPQ', 'CFB', 'OPS', 'GRP', 'CMP', 'BVS', 'SFK', 'PIN', 'BRA', 'STZ', 'MQH', 'AUX', 'NVP', 'LVR', 'FRC', 'DOU', 'LBR', 'ROO', 'GPB', 'JCB', 'RVD', 'AAX', 'MBZ', 'RBB', 'CIZ', 'BAZ', 'DMT', 'GNM', 'PLL', 'SJL', 'CKS', 'ITB', 'VAL', 'MVF', 'CAU', 'QNV', 'BNU', 'IZA', 'POJ', 'JTC', 'OIA', 'RDC', 'SXX', 'BYO', 'SXO', 'CFC', 'CAF', 'ERN', 'CCI', 'FBE', 'CFO', 'UMU', 'DTI', 'FBA', 'OLC', 'HUW', 'IRZ', 'ORX', 'UNA', 'QCJ', 'QSC', 'BJP', 'BHZ', 'ASD', 'MHH', 'SAQ', 'AXP', 'TCB', 'CCZ', 'BIM', 'GGT', 'ELH', 'GHB', 'RSD', 'FPO', 'IGA', 'LGI', 'SML', 'MYG', 'NAS', 'ZSA', 'NSB', 'PID', 'CRI', 'CAT', 'ATC', 'COX', 'WZY', 'FRW', 'JWA', 'BBK', 'MUB', 'GBE', 'PKW', 'TLD', 'SWX', 'ORP', 'GNZ', 'KHW', 'GME', 'VTB', 'MHP', 'MSQ', 'GNA', 'MVQ', 'BQT', 'BZE', 'SPR', 'PND', 'CUK', 'TZA', 'CZH', 'CYC', 'BGK', 'DGA', 'PLJ', 'SJX', 'BCV', 'YAM', 'YAV', 'YAW', 'YAY', 'YAZ', 'YBB', 'YBC', 'YBG', 'YBK', 'YBL', 'YBR', 'YCB', 'YCD', 'YCG', 'YCH', 'YCL', 'YCO', 'YCT', 'YCW', 'YCY', 'YZS', 'YDA', 'YDB', 'YDC', 'YDF', 'YDL', 'YDN', 'YDQ', 'YEG', 'YEK', 'YEN', 'YET', 'YEU', 'YEV', 'YFB', 'YFC', 'YFO', 'YFR', 'YFS', 'YGK', 'YGL', 'YGP', 'YGQ', 'YGR', 'YHB', 'YHD', 'YHI', 'YHK', 'YHM', 'YHU', 'YHY', 'YHZ', 'YIB', 'YIO', 'YJN', 'YJT', 'YKA', 'YKF', 'YKL', 'YKY', 'YKZ', 'YLD', 'YLJ', 'YLL', 'YLT', 'YLW', 'YMA', 'YMJ', 'YMM', 'YMO', 'YMW', 'YMX', 'YNA', 'YND', 'YNM', 'YOC', 'YOD', 'YOJ', 'YOW', 'YPA', 'YPE', 'YPG', 'YPL', 'YPN', 'YPQ', 'YPR', 'YPY', 'YQA', 'YQB', 'YQF', 'YQG', 'YQH', 'YQK', 'YQL', 'YQM', 'YQQ', 'YQR', 'YQT', 'YQU', 'YQV', 'YQW', 'YQX', 'YQY', 'YQZ', 'YRB', 'YRI', 'YRJ', 'YRM', 'YRT', 'YSB', 'YSC', 'YSJ', 'YSM', 'YSR', 'YSU', 'YSY', 'YTE', 'YTH', 'YTR', 'YTS', 'YTZ', 'YUB', 'YUL', 'YUT', 'YUX', 'YUY', 'YVC', 'YVG', 'YVM', 'YVO', 'YVP', 'YVQ', 'YVR', 'YVT', 'YVV', 'YWA', 'YWG', 'YWK', 'YWL', 'YWY', 'YXC', 'YXD', 'YXE', 'YXH', 'YXJ', 'YXL', 'YXP', 'YXR', 'YXS', 'YXT', 'YXU', 'YXX', 'YXY', 'YYB', 'YYC', 'YYD', 'YYE', 'YYF', 'YYG', 'YYH', 'YYJ', 'YYL', 'YYN', 'YYQ', 'YYR', 'YYT', 'YYU', 'YYW', 'YYY', 'YYZ', 'YZD', 'YZE', 'YZF', 'YZH', 'YZP', 'YZR', 'YZT', 'YZU', 'YZV', 'YZW', 'YZX', 'ZFA', 'ZFM', 'YOA', 'YWH', 'CXH', 'LAK', 'YWJ', 'ZFN', 'YGH', 'YPC', 'ZWL', 'ZUM', 'ZTM', 'ZSJ', 'ZRJ', 'ZPB', 'ZMT', 'MSA', 'ZKE', 'ZJN', 'ZGI', 'ZFD', 'ZEM', 'ZBF', 'ILF', 'ZAC', 'YZG', 'YXN', 'YWP', 'YVZ', 'YTL', 'YST', 'YSK', 'YSF', 'YRL', 'YRA', 'YQN', 'YQD', 'YPW', 'YPO', 'YPM', 'YPH', 'YOH', 'YNL', 'YNE', 'YNC', 'YUD', 'YMT', 'YMH', 'XGR', 'YSG', 'YLH', 'YLC', 'YPJ', 'YKQ', 'AKV', 'YIV', 'YIK', 'YHR', 'YHO', 'YNS', 'YHC', 'YQC', 'YGZ', 'YGX', 'YGW', 'YGT', 'YGO', 'YGB', 'YMN', 'YFH', 'YFA', 'YER', 'YDP', 'YCS', 'YRF', 'YBX', 'YBE', 'YAT', 'YKG', 'XKS', 'YAG', 'YAC', 'ZLT', 'ZTB', 'YKU', 'YHP', 'YOG', 'KIF', 'XBE', 'YNO', 'WNN', 'YAX', 'SUR', 'YLE', 'YCK', 'YRG', 'YHA', 'YFX', 'YWM', 'YAA', 'YWS', 'YIF', 'YVB', 'QBC', 'YTQ', 'YPX', 'ZSW', 'YBV', 'YPI', 'YTM', 'YSO', 'YWB', 'YTF', 'YGV', 'YXK', 'XTL', 'XLB', 'XSI', 'YBT', 'ZGR', 'YCR', 'YRS', 'YOP', 'YBY', 'ZNA', 'XQU', 'YJM', 'YDT', 'ZEL', 'YHS', 'YMY', 'YBZ', 'YQI', 'YOO', 'XDS', 'XVV', 'XZL', 'XAD', 'XEF', 'YZY', 'YBW', 'YGE', 'YRV', 'XEG', 'XAX', 'YTA', 'YSD', 'YRR', 'YCC', 'ZKG', 'YBI', 'YZZ', 'YAB', 'KEW', 'YSP', 'YHF', 'YHN', 'YKX', 'YMG', 'YXZ', 'YEM', 'YFD', 'ZML', 'YGM', 'YBO', 'YMQ', 'YTO', 'YRQ', 'XBG', 'ZBM', 'JHL', 'NML', 'YCN', 'YLS', 'YEE', 'NU8', 'ND4', 'NF4', 'YCM', 'XCM', 'YPD', 'YGG', 'YPT', 'YMU', 'YMP', 'YTG', 'GVA', 'SIR', 'LUG', 'BRN', 'ZRH', 'ACH', 'SMV', 'BSL', 'QNC', 'ZJI', 'ZIN', 'BXO', 'ARI', 'BBA', 'CCH', 'CJC', 'PUQ', 'GXQ', 'IQQ', 'SCL', 'ANF', 'LSQ', 'CCP', 'IPC', 'ZOS', 'LSC', 'ZCO', 'PMC', 'WCH', 'ZAL', 'CPO', 'ZPC', 'ESR', 'PNT', 'WPR', 'WPU', 'PEK', 'HLD', 'TSN', 'TYN', 'CAN', 'CSX', 'KWL', 'NNG', 'SZX', 'CGO', 'WUH', 'ZGC', 'XIY', 'KMG', 'XMN', 'KHN', 'FOC', 'HGH', 'NGB', 'NKG', 'HFE', 'TAO', 'SHA', 'YNT', 'CKG', 'KWE', 'CTU', 'XIC', 'KHG', 'HTN', 'URC', 'HRB', 'DLC', 'PVG', 'SYX', 'LJG', 'DLU', 'JHG', 'INC', 'LXA', 'TNA', 'CZX', 'YBP', 'HAK', 'SHE', 'DOY', 'LYA', 'XUZ', 'JZH', 'SWA', 'DNH', 'MDG', 'CGQ', 'NTG', 'NAY', 'CIF', 'CIH', 'DAT', 'HET', 'BAV', 'SJW', 'TGO', 'HLH', 'XIL', 'BHY', 'CGD', 'DYG', 'MXZ', 'ZUH', 'LZH', 'ZHA', 'ENH', 'NNY', 'XFN', 'YIH', 'AKA', 'GOQ', 'HZG', 'IQN', 'XNN', 'ENY', 'UYN', 'DIG', 'LUM', 'SYM', 'ZAT', 'KOW', 'JDZ', 'JIU', 'JUZ', 'LYG', 'HYN', 'LYI', 'JJN', 'TXN', 'WEF', 'WEH', 'WUX', 'WUS', 'WNZ', 'YNZ', 'YIW', 'HSN', 'BPX', 'DAX', 'GYS', 'LZO', 'MIG', 'NAO', 'LZY', 'WXN', 'AKU', 'IQM', 'KCA', 'KRL', 'KRY', 'YIN', 'HEK', 'JMU', 'JNZ', 'NDG', 'YNJ', 'AQG', 'JGS', 'SHP', 'YCU', 'LHW', 'JGN', 'DDG', 'DSN', 'PZI', 'JNG', 'OHE', 'DAQ', 'CHG', 'TCG', 'WUZ', 'HMI', 'AAT', 'HHA', 'NZH', 'WUA', 'TEN', 'KNC', 'SIA', 'FUO', 'HUZ', 'FUG', 'LCX', 'BSD', 'ACX', 'HZH', 'HJJ', 'LNJ', 'WNH', 'TCZ', 'YUS', 'HIA', 'NGQ', 'ZHY', 'AEB', 'KJI', 'GZS', 'HDG', 'JXA', 'RKZ', 'BJS', 'RLK', 'JIQ', 'NBS', 'LLF', 'TVS', 'YTY', 'THQ', 'KGT', 'TLQ', 'GYU', 'CNI', 'JGD', 'BFJ', 'YIC', 'LLV', 'DCY', 'GXH', 'NLT', 'AXM', 'PUU', 'BGA', 'BOG', 'BAQ', 'BSC', 'BUN', 'CUC', 'CTG', 'CLO', 'TCO', 'CZU', 'EJA', 'FLA', 'GPI', 'IBE', 'IPI', 'LET', 'EOH', 'MGN', 'MTR', 'MVP', 'MZL', 'NVA', 'OCV', 'OTU', 'PCR', 'PEI', 'PPN', 'PSO', 'PVA', 'MDE', 'RCH', 'SJE', 'SMR', 'ADZ', 'SVI', 'TME', 'AUC', 'UIB', 'ULQ', 'VUP', 'VVC', 'EYP', 'TCD', 'APO', 'PDA', 'NQU', 'LPD', 'LQM', 'GLJ', 'CRC', 'ACR', 'ACD', 'RVE', 'LCR', 'LMC', 'VGZ', 'EBG', 'CAQ', 'COG', 'TLU', 'CPB', 'OTR', 'GLF', 'LIR', 'LIO', 'NOB', 'SJO', 'PMZ', 'XQP', 'PLD', 'SYQ', 'PJM', 'PBP', 'TNO', 'BCL', 'TTQ', 'DRK', 'TMU', 'FON', 'RIK', 'CSC', 'BCA', 'BYM', 'AVI', 'CFG', 'CYO', 'CMW', 'SCU', 'GAO', 'HAV', 'HOG', 'LCL', 'MOA', 'MZO', 'GER', 'SNU', 'VRA', 'VTU', 'TND', 'CCC', 'SID', 'BVC', 'MMO', 'SNE', 'VXE', 'SFL', 'RAI', 'KLV', 'OSR', 'PED', 'PRV', 'PRG', 'BRQ', 'LKS', 'XYG', 'XYJ', 'JIB', 'OBC', 'TDJ', 'AAR', 'BLL', 'CPH', 'EBJ', 'KRP', 'ODE', 'RKE', 'RNN', 'SGD', 'SKS', 'TED', 'STA', 'AAL', 'CNL', 'ZGH', 'ROD', 'FAE', 'UAK', 'GOH', 'SFJ', 'THU', 'JAV', 'JCH', 'JEG', 'KUS', 'QFI', 'QCU', 'JGR', 'JQA', 'JUV', 'JHS', 'NAQ', 'JNS', 'JNN', 'JSU', 'JJU', 'JGO', 'JFR', 'CNP', 'LLU', 'AGM', 'OBY', 'UMD', 'EPS', 'BRX', 'LRM', 'PUJ', 'POP', 'SDQ', 'STI', 'JBQ', 'AZS', 'COZ', 'HEX', 'BJA', 'ALG', 'DJG', 'QFD', 'VVZ', 'TMR', 'GJL', 'AAE', 'CZL', 'TEE', 'HRM', 'TID', 'TIN', 'QAS', 'TAF', 'TLM', 'ORN', 'MUW', 'AZR', 'BSK', 'ELG', 'GHA', 'HME', 'INZ', 'TGR', 'LOO', 'TMX', 'OGX', 'IAM', 'ELU', 'BMW', 'CBH', 'BLJ', 'QSF', 'QDJ', 'ALY', 'ABS', 'CAI', 'HRG', 'EGR', 'LXR', 'MUH', 'PSD', 'SKV', 'ASW', 'ELT', 'HBE', 'SSH', 'RMF', 'TCP', 'ATZ', 'AAC', 'GSQ', 'DBB', 'HMB', 'ADD', 'AMH', 'AXU', 'BJR', 'DIR', 'GMB', 'GDQ', 'JIM', 'LLI', 'MQX', 'ASO', 'TIE', 'MTF', 'ABK', 'GOR', 'GDE', 'DEM', 'DSE', 'BEI', 'BCO', 'SHC', 'HIL', 'AWA', 'JIJ', 'MKS', 'DBM', 'DBT', 'QHR', 'GOB', 'HUE', 'GRZ', 'INN', 'LNZ', 'SZG', 'VIE', 'HOJ', 'KLU', 'ZSB', 'XWW', 'ANR', 'BRU', 'CRL', 'QKT', 'LGG', 'OST', 'ZYR', 'KNO', 'ZWE', 'XHN', 'LCA', 'PFO', 'AKT', 'ECN', 'NIC', 'KDL', 'URE', 'EPU', 'TLL', 'TAY', 'ENF', 'KEV', 'HEM', 'HEL', 'HYV', 'IVL', 'JOE', 'JYV', 'KAU', 'KEM', 'KAJ', 'KOK', 'KAO', 'KTT', 'KUO', 'LPP', 'MHQ', 'MIK', 'OUL', 'POR', 'RVN', 'SVL', 'SOT', 'TMP', 'TKU', 'QVY', 'VAA', 'VRK', 'SJY', 'HEN', 'CQF', 'LTQ', 'AGF', 'BOD', 'EGC', 'CNG', 'PIS', 'LIG', 'NIT', 'TLS', 'PUF', 'LDE', 'ANG', 'BVE', 'PGX', 'BIQ', 'XAC', 'LBI', 'DCM', 'RDZ', 'RYN', 'RCO', 'CMR', 'DLE', 'OBS', 'LPY', 'XBK', 'XVF', 'XMU', 'ETZ', 'BIA', 'CLY', 'FSC', 'AJA', 'SOZ', 'AUF', 'CMF', 'CFE', 'BOU', 'XCD', 'QNJ', 'LYS', 'QNX', 'RNE', 'NCY', 'GNB', 'MCU', 'VAF', 'VHY', 'AUR', 'CHR', 'LYN', 'QXB', 'CEQ', 'EBU', 'CCF', 'MRS', 'NCE', 'PGF', 'CTT', 'MPL', 'BZR', 'AVN', 'MEN', 'BVA', 'LEH', 'ORE', 'XCR', 'URO', 'TUF', 'CET', 'LVA', 'LBG', 'CSF', 'CDG', 'TNF', 'ORY', 'POX', 'QYR', 'NVS', 'LIL', 'BES', 'CER', 'DNR', 'GFR', 'DOL', 'LRT', 'EDM', 'CFR', 'LME', 'RNS', 'LAI', 'UIP', 'NTE', 'SBK', 'MXN', 'VNE', 'SNR', 'MLH', 'DIJ', 'MZM', 'EPL', 'ENC', 'RHE', 'SXB', 'TLN', 'FNI', 'XYD', 'LTT', 'EAP', 'ANE', 'IDY', 'JCA', 'SBH', 'CVF', 'JPU', 'LRH', 'XDB', 'XPG', 'XGB', 'XSH', 'FRJ', 'MVV', 'MFX', 'QXG', 'XWG', 'PLY', 'XHP', 'PAR', 'BOR', 'CAY', 'XAU', 'MPY', 'LDX', 'BBJ', 'AOC', 'BBH', 'SXF', 'DRS', 'ERF', 'FRA', 'FMO', 'HAM', 'THF', 'CGN', 'DUS', 'MUC', 'NUE', 'LEJ', 'SCN', 'STR', 'TXL', 'HAJ', 'BRE', 'HHN', 'MHG', 'XFW', 'KEL', 'LBC', 'ZCA', 'ESS', 'MGL', 'PAD', 'DTM', 'AGB', 'OBF', 'FDH', 'SZW', 'ZSN', 'BYU', 'HOQ', 'ZNV', 'ZQF', 'ZQC', 'ZQL', 'BWE', 'KSF', 'BRV', 'EME', 'WVN', 'BMK', 'NRD', 'FLF', 'GWT', 'SPM', 'RMS', 'GHF', 'ZCN', 'ZNF', 'GKE', 'RLG', 'FEL', 'GUT', 'QDU', 'FMM', 'QKL', 'ZWS', 'AAH', 'FKB', 'NRN', 'ZQW', 'NOE', 'JUI', 'QEF', 'HGL', 'HEI', 'HDF', 'GTI', 'AGE', 'LGO', 'NDZ', 'FUS', 'EBO', 'KFB', 'ZMU', 'ZAQ', 'ZAU', 'ZMA', 'ZES', 'QFZ', 'QMZ', 'GWW', 'ZPQ', 'QPP', 'KFX', 'MUQ', 'NUR', 'EBE', 'AUB', 'BIE', 'BUH', 'FUX', 'KEX', 'OAL', 'MOS', 'ESX', 'BOX', 'KOX', 'LES', 'LND', 'HDB', 'BER', 'LHA', 'RGB', 'TLG', 'CSO', 'WZB', 'BAM', 'IGS', 'ZRB', 'PSH', 'BNJ', 'QWC', 'ZFR', 'BHF', 'BGS', 'ZVM', 'PEF', 'OHR', 'ZMB', 'QUA', 'EUM', 'PKH', 'PYR', 'AGQ', 'AXD', 'VOL', 'JKH', 'IOA', 'HER', 'KSO', 'KIT', 'EFL', 'KLX', 'KGS', 'AOK', 'CFU', 'KSJ', 'KVA', 'KZI', 'LRS', 'LXS', 'LRA', 'JMK', 'MJT', 'PVK', 'RHO', 'GPA', 'CHQ', 'JSI', 'SMI', 'JTR', 'JSH', 'SKU', 'SKG', 'ZTH', 'ATH', 'JTY', 'JIK', 'JKL', 'MLO', 'JNX', 'PAS', 'KZS', 'HEW', 'JSY', 'SFG', 'PTP', 'GBJ', 'SFC', 'BBR', 'DSD', 'LSS', 'ORK', 'GWY', 'DUB', 'NOC', 'KIR', 'SNN', 'SXL', 'WAT', 'CFN', 'IOR', 'NNR', 'INQ', 'IIA', 'BYT', 'CHE', 'CRV', 'BRI', 'FOG', 'TAR', 'LCC', 'PSR', 'BDS', 'SUF', 'CTA', 'LMP', 'PNL', 'PMO', 'REG', 'TPS', 'NSY', 'AHO', 'DCI', 'CAG', 'OLB', 'TTB', 'MXP', 'BGY', 'TRN', 'ALL', 'GOA', 'LIN', 'PMF', 'QPZ', 'CUF', 'AVB', 'BZO', 'BLQ', 'TSF', 'FRL', 'VBS', 'TRS', 'RMI', 'VIC', 'QPA', 'VRN', 'VCE', 'SAY', 'CIA', 'FCO', 'EBA', 'QLT', 'NAP', 'PSA', 'FLR', 'GRS', 'PEG', 'AOI', 'QSR', 'AOT', 'TQR', 'FNU', 'VIF', 'MIL', 'CIY', 'LPX', 'RIX', 'VTS', 'SQQ', 'HLJ', 'KUN', 'PLQ', 'VNO', 'PNV', 'LUX', 'MLA', 'GZM', 'JCO', 'FDF', 'DZA', 'MCM', 'TGD', 'TIV', 'AMS', 'MST', 'EIN', 'GRQ', 'DHR', 'LWR', 'RTM', 'UTC', 'ENS', 'LID', 'WOE', 'QYI', 'LEY', 'ZYA', 'UDE', 'QRH', 'BON', 'EUX', 'SAB', 'SMA', 'BGC', 'FLW', 'FAO', 'GRW', 'HOR', 'TER', 'PDL', 'PIX', 'OPO', 'PXO', 'LIS', 'SJZ', 'VRL', 'FNC', 'CVU', 'RUN', 'ZSE', 'MQC', 'FSP', 'BTS', 'KSC', 'PZY', 'SLD', 'TAT', 'ILZ', 'LJU', 'MBX', 'POW', 'FUE', 'VDE', 'SPC', 'LPA', 'ACE', 'TFS', 'TFN', 'MLN', 'ALC', 'LEI', 'OVD', 'ODB', 'BIO', 'BCN', 'BJZ', 'LCG', 'GRO', 'GRX', 'IBZ', 'XRY', 'MJV', 'MAD', 'AGP', 'MAH', 'OZP', 'PNA', 'REU', 'SLM', 'EAS', 'SCQ', 'LEU', 'TOJ', 'VLC', 'VLL', 'VIT', 'VGO', 'SDR', 'ZAZ', 'SVQ', 'QSA', 'PMI', 'RJL', 'JCU', 'GMZ', 'RRA', 'RGS', 'LEN', 'ILD', 'HSK', 'CQM', 'NAN', 'SUV', 'LEV', 'VBV', 'SVU', 'RTA', 'KXF', 'TVU', 'LBS', 'LKB', 'NGI', 'MFJ', 'MNF', 'KDV', 'PTF', 'ICI', 'MPN', 'PSY', 'ACI', 'GCI', 'IOM', 'JER', 'BFS', 'ENK', 'BHD', 'LDY', 'BHX', 'CVT', 'GLO', 'MAN', 'NQY', 'LYE', 'YEO', 'CWL', 'SWS', 'BRS', 'LPL', 'LTN', 'PLH', 'BOH', 'SOU', 'QLA', 'ESH', 'BQH', 'LGW', 'LCY', 'FAB', 'BBS', 'LHR', 'SEN', 'LYX', 'MSE', 'CAX', 'BLK', 'HUY', 'BWF', 'LBA', 'CEG', 'NCL', 'MME', 'EMA', 'KOI', 'LSI', 'WIC', 'ABZ', 'INV', 'GLA', 'EDI', 'ILY', 'PIK', 'BEB', 'SDZ', 'DND', 'SYY', 'TRE', 'ADX', 'LMO', 'CBG', 'NWI', 'STN', 'EXT', 'FZO', 'OXF', 'MHZ', 'FFD', 'BZZ', 'ODH', 'NHT', 'QCY', 'BEQ', 'WTN', 'KNF', 'LYM', 'ISC', 'PSV', 'OUK', 'FOA', 'BRR', 'HLY', 'PZE', 'LEQ', 'WRY', 'LWK', 'NDY', 'SOY', 'PPW', 'NRL', 'FIE', 'EOI', 'CAL', 'DSA', 'NQT', 'UNT', 'OBN', 'FWM', 'PME', 'ZXE', 'CSA', 'COL', 'TSO', 'QQP', 'STP', 'ASI', 'BBP', 'HTF', 'QQS', 'SCS', 'LON', 'PSL', 'QQK', 'XVJ', 'XVH', 'WLF', 'QFO', 'RCS', 'KRH', 'BE2', 'SR2', 'GLQ', 'ZGG', 'QQU', 'QQW', 'BUS', 'KUT', 'TBS', 'SUI', 'ACC', 'TML', 'NYI', 'TKD', 'KMS', 'GIB', 'BJL', 'FIG', 'FAA', 'LEK', 'CKY', 'KSI', 'KNN', 'CBV', 'GUA', 'FRS', 'AAZ', 'PBR', 'AQB', 'LTM', 'GEO', 'OGL', 'KAI', 'KIA', 'ORJ', 'NAI', 'IMB', 'KAR', 'USI', 'MHA', 'HKG', 'LCE', 'SAP', 'GJA', 'RTB', 'TEA', 'TGU', 'UII', 'PEU', 'AHS', 'BHG', 'DBV', 'OSI', 'PUY', 'RJK', 'SPU', 'ZAG', 'ZAD', 'BWK', 'LSZ', 'BUD', 'DEB', 'SOB', 'QGY', 'PEV', 'QPJ', 'NAH', 'UPG', 'BIK', 'NBX', 'TIM', 'DJJ', 'WMX', 'MKQ', 'GTO', 'PLW', 'MDC', 'PSJ', 'OTI', 'TTE', 'LUW', 'AMQ', 'FKQ', 'KNG', 'BXB', 'MKW', 'SOQ', 'PKU', 'DUM', 'CGK', 'GNS', 'PDG', 'MES', 'KTG', 'PNK', 'DJB', 'BKS', 'PLM', 'RGT', 'BTJ', 'KDI', 'SBG', 'MLG', 'BDO', 'CBN', 'JOG', 'CXP', 'PCB', 'SRG', 'BTH', 'TJQ', 'PGK', 'TNJ', 'SIQ', 'BDJ', 'PKN', 'PKY', 'MOF', 'ENE', 'RTG', 'KOE', 'LBJ', 'BPN', 'TRK', 'SRI', 'AMI', 'BMU', 'WGP', 'SUB', 'SOC', 'DPS', 'SWQ', 'TMC', 'BUI', 'SEH', 'TJS', 'DTD', 'BEJ', 'TJG', 'SMQ', 'LUV', 'ARD', 'TKG', 'HLP', 'NTX', 'PSU', 'SQG', 'PDO', 'LSW', 'KBU', 'LBW', 'NNX', 'LPU', 'MWK', 'TTR', 'NDA', 'LOP', 'PUM', 'MJU', 'WAR', 'TLV', 'BEV', 'ETH', 'HFA', 'RPN', 'VDA', 'SDV', 'GZA', 'PBH', 'AMD', 'AKD', 'IXU', 'BOM', 'PAB', 'BHJ', 'IXG', 'BDQ', 'BHO', 'BHU', 'NMB', 'GOI', 'IDR', 'JLR', 'JGA', 'IXY', 'HJR', 'KLH', 'IXK', 'NAG', 'ISK', 'PNQ', 'PBD', 'RAJ', 'RPR', 'SSE', 'STV', 'UDR', 'IXA', 'AJL', 'IXB', 'BBI', 'CCU', 'COH', 'DBD', 'GAY', 'IMF', 'IXW', 'JRH', 'IXH', 'IXS', 'IXI', 'MOH', 'PAT', 'IXR', 'RRK', 'VTZ', 'AGR', 'IXD', 'ATQ', 'VNS', 'KUU', 'IXC', 'DED', 'DEL', 'GWL', 'JDH', 'JAI', 'JSA', 'IXJ', 'KNU', 'KTU', 'LUH', 'IXL', 'LKO', 'IXP', 'PGH', 'SXR', 'TNI', 'AGX', 'BLR', 'BEP', 'VGA', 'CJB', 'COK', 'CCJ', 'CDP', 'HYD', 'IXM', 'IXE', 'MAA', 'IXZ', 'PNY', 'RJA', 'TIR', 'TRZ', 'TRV', 'DIU', 'HBX', 'SHL', 'GAU', 'DMU', 'TEZ', 'DIB', 'SLV', 'NDC', 'DHM', 'GOP', 'LTU', 'MYQ', 'YLK', 'BSR', 'KIK', 'EBL', 'BGW', 'ISU', 'NJF', 'OSB', 'ABD', 'QMJ', 'MRX', 'AWZ', 'BUZ', 'KIH', 'BDH', 'KSH', 'SDG', 'RAS', 'THR', 'BND', 'KER', 'XBJ', 'RZR', 'SYZ', 'TBZ', 'AZD', 'ZBR', 'ZAH', 'IFN', 'IKA', 'MHD', 'OMH', 'ADU', 'LRR', 'SRY', 'NSH', 'AFZ', 'BJB', 'RJN', 'BXR', 'KHD', 'GSM', 'HDM', 'CQD', 'PFQ', 'IIL', 'GBT', 'ACP', 'PGU', 'YES', 'AEY', 'EGS', 'HFN', 'HZK', 'IFJ', 'KEF', 'PFJ', 'RKV', 'SIJ', 'VEY', 'MVA', 'VPN', 'THO', 'GRY', 'BIU', 'GJR', 'SAK', 'NOR', 'OCJ', 'KIN', 'MBJ', 'POT', 'KTP', 'NEG', 'AMM', 'ADJ', 'AQJ', 'OMF', 'NRT', 'MMJ', 'IBR', 'IWO', 'SHM', 'OBO', 'CTS', 'HKD', 'SPK', 'MMB', 'SHB', 'WKJ', 'IKI', 'UBJ', 'TSJ', 'MBE', 'AKJ', 'OIR', 'RIS', 'KUM', 'FUJ', 'FUK', 'TNE', 'KOJ', 'KMI', 'OIT', 'KKJ', 'KMJ', 'NGS', 'ASJ', 'TKN', 'KMQ', 'OKI', 'TOY', 'HIJ', 'OKJ', 'IZO', 'YGJ', 'KCZ', 'MYJ', 'ITM', 'TTJ', 'TKS', 'TAK', 'AOJ', 'GAJ', 'HNA', 'AXT', 'MSJ', 'SDJ', 'HAC', 'OIM', 'HND', 'OKO', 'OKA', 'DNA', 'ISG', 'UEO', 'MMD', 'MMY', 'KTD', 'SHI', 'RNJ', 'OGN', 'NTQ', 'NGO', 'UKB', 'KIX', 'KIJ', 'MYE', 'SYO', 'ONJ', 'FKS', 'IWJ', 'NKM', 'HSG', 'OKD', 'KUH', 'FSZ', 'UKY', 'TJH', 'AXJ', 'KKX', 'AGJ', 'BPU', 'QOT', 'HIW', 'TYO', 'KJP', 'EDL', 'KIS', 'KTL', 'LOK', 'LAU', 'MBA', 'WIL', 'WJR', 'BMQ', 'NBO', 'KWY', 'NYK', 'MYD', 'LKG', 'ASV', 'UAS', 'MRE', 'UKA', 'OYL', 'GAS', 'HOA', 'KLK', 'KEY', 'ILU', 'KRV', 'NYE', 'FRU', 'OSS', 'PNH', 'REP', 'KOS', 'RBE', 'BBM', 'KTI', 'HAH', 'NWA', 'AJN', 'YVA', 'FNJ', 'HAE', 'DSO', 'YJS', 'RGO', 'KWJ', 'RSU', 'SHO', 'KAG', 'CJU', 'PUS', 'USN', 'SSN', 'OSN', 'GMP', 'KPO', 'TAE', 'YEC', 'ICN', 'MWX', 'CJJ', 'HIN', 'WJU', 'MPK', 'KUV', 'YNY', 'SEL', 'KWI', 'CYB', 'GCM', 'LYB', 'ALA', 'TSE', 'DMB', 'CIT', 'URA', 'PWQ', 'PLX', 'AKX', 'BXH', 'GUW', 'KZO', 'SCO', 'KGF', 'UKK', 'PPK', 'KSN', 'DZN', 'KOV', 'AYK', 'TDK', 'LPQ', 'PKZ', 'ZVK', 'VTE', 'XKH', 'LXG', 'ODY', 'OUI', 'VNA', 'BEY', 'CMB', 'RML', 'GOY', 'JAF', 'TRR', 'KCT', 'WRZ', 'BJT', 'DIW', 'HRI', 'KEZ', 'KDZ', 'GIU', 'MLW', 'ROB', 'CPA', 'GHT', 'AKF', 'BEN', 'SEB', 'TIP', 'LTD', 'QUB', 'MRA', 'LAQ', 'MJI', 'TOB', 'SRX', 'AGA', 'TTA', 'FEZ', 'ERH', 'MEK', 'OUD', 'RBA', 'CMN', 'RAK', 'NNA', 'OZZ', 'AHU', 'TTU', 'TNG', 'NDR', 'ESU', 'EUN', 'VIL', 'SMW', 'KIV', 'BZY', 'TNR', 'ZVA', 'SMS', 'TMM', 'MOQ', 'DIE', 'WMR', 'ZWA', 'AMB', 'ANM', 'HVA', 'MJN', 'NOS', 'BPY', 'WMN', 'SVB', 'VOH', 'WAI', 'FTU', 'WFI', 'RVA', 'WVK', 'MNJ', 'MXM', 'TLE', 'MJA', 'WMA', 'TTS', 'WMP', 'DWB', 'IVA', 'WPB', 'WAM', 'WTS', 'WTA', 'TVA', 'MXT', 'BMD', 'JVA', 'WAQ', 'AMY', 'DVD', 'ATJ', 'OVA', 'OHD', 'SKP', 'HEH', 'KET', 'KYP', 'LSH', 'MDL', 'MGZ', 'MYT', 'MOG', 'PBU', 'AKY', 'SNW', 'THL', 'RGN', 'NYU', 'MWQ', 'KHM', 'BPE', 'BMO', 'TVY', 'KAW', 'LIW', 'MNU', 'BSX', 'PKK', 'KMV', 'ELA', 'XYE', 'NYT', 'ULN', 'AVK', 'LTI', 'BYN', 'DLZ', 'HVD', 'MXV', 'COQ', 'ULG', 'UGA', 'ULO', 'MFM', 'XZM', 'IEO', 'TIY', 'KFA', 'EMN', 'KED', 'NKC', 'SEY', 'ATR', 'NDB', 'MRU', 'RRG', 'MLE', 'KDM', 'GAN', 'HAQ', 'KDO', 'MSI', 'VAM', 'IRU', 'DHG', 'GKK', 'BLZ', 'KGJ', 'LLW', 'ZZU', 'CMK', 'LIX', 'ACA', 'NTR', 'AGU', 'HUX', 'CVJ', 'CME', 'CUL', 'CTM', 'CEN', 'CPE', 'CJS', 'CUU', 'CVM', 'CZM', 'DGO', 'TPQ', 'ESE', 'GDL', 'GYM', 'TCN', 'HMO', 'CLQ', 'ISJ', 'SLW', 'LZC', 'LMM', 'BJX', 'LAP', 'LTO', 'MAM', 'MID', 'MXL', 'MLM', 'MTT', 'LOV', 'MEX', 'MTY', 'MZT', 'NOG', 'NLD', 'OAX', 'PAZ', 'PBC', 'PCA', 'PPE', 'PDS', 'UPN', 'PVR', 'PXM', 'QRO', 'REX', 'SJD', 'SLP', 'TXA', 'TRC', 'TGZ', 'TIJ', 'TAM', 'TSL', 'TLC', 'TAP', 'CUN', 'VSA', 'VER', 'ZCL', 'ZIH', 'ZMM', 'ZLO', 'SCX', 'JAL', 'GUB', 'CUA', 'CYW', 'PVP', 'PCM', 'BTU', 'KCH', 'LMN', 'MUR', 'MYY', 'SBW', 'LDU', 'BKI', 'LBU', 'TWU', 'AOR', 'KBR', 'KUA', 'KTE', 'IPH', 'JHB', 'KUL', 'LGK', 'MKZ', 'TGG', 'PEN', 'TOD', 'SZB', 'RDN', 'MZV', 'SDK', 'LBP', 'BLG', 'LGL', 'ODN', 'MKM', 'BKM', 'LWY', 'BBN', 'TMG', 'KUD', 'PKG', 'TGC', 'LKH', 'LAC', 'ZWR', 'XKL', 'BEW', 'INH', 'VXC', 'MPM', 'MZB', 'MNC', 'APL', 'POL', 'UEL', 'TET', 'VNX', 'VPY', 'BZB', 'BCW', 'IBL', 'FXO', 'ABV', 'AKR', 'BNI', 'CBQ', 'ENU', 'QUS', 'IBA', 'ILR', 'JOS', 'KAD', 'KAN', 'MIU', 'MDI', 'LOS', 'MXJ', 'PHC', 'SKO', 'YOL', 'ZAR', 'QOW', 'QRW', 'BEF', 'MGA', 'PUZ', 'RNI', 'BZA', 'RFS', 'SIU', 'WSP', 'AES', 'ANX', 'ALF', 'BNN', 'BOO', 'BGO', 'BJF', 'KRS', 'BDU', 'EVE', 'VDB', 'FRO', 'OSL', 'HAU', 'HAA', 'KSU', 'KKN', 'FAN', 'MOL', 'MJF', 'LKL', 'NTB', 'OLA', 'RRS', 'RYG', 'LYR', 'SKE', 'SRP', 'SSJ', 'TOS', 'TRF', 'TRD', 'SVG', 'GEN', 'SKN', 'HFT', 'HVG', 'MEH', 'VDS', 'HOV', 'NVK', 'BVG', 'FBU', 'FDE', 'VRY', 'VAW', 'SOJ', 'SVJ', 'SOG', 'SDN', 'RET', 'RVK', 'MQN', 'OSY', 'LKN', 'ZXB', 'HMR', 'BWA', 'KTM', 'PKR', 'SIF', 'BIR', 'LUA', 'BHP', 'LDN', 'JMO', 'NGX', 'PPL', 'TMK', 'RUM', 'DNP', 'RUK', 'JUM', 'HRJ', 'TPJ', 'TMI', 'SKH', 'IMK', 'DOP', 'BJH', 'DHI', 'MWP', 'BHR', 'BDP', 'MEY', 'KEP', 'RHP', 'SYH', 'BJU', 'AIT', 'RAR', 'PYE', 'MOI', 'MUK', 'MHX', 'MGS', 'AIU', 'AKL', 'TUO', 'AMZ', 'CHC', 'CHT', 'DUD', 'GIS', 'MON', 'HKK', 'HLZ', 'KKE', 'KAT', 'ALR', 'GTN', 'TEU', 'MRO', 'NPL', 'NSN', 'IVC', 'OAM', 'PMR', 'PPQ', 'ZQN', 'ROT', 'TRG', 'TIU', 'BHE', 'WKA', 'WHK', 'WLG', 'WRE', 'WSZ', 'WAG', 'GBZ', 'MFN', 'NPE', 'KBZ', 'PCN', 'SZS', 'WTZ', 'KTF', 'FGL', 'MZP', 'IUE', 'KHS', 'MSH', 'MCT', 'SLL', 'TTH', 'OMM', 'PCL', 'CHM', 'CIX', 'AYP', 'ANS', 'ATA', 'LIM', 'JJI', 'JUL', 'TBP', 'YMS', 'CHH', 'IQT', 'AQP', 'TRU', 'PIO', 'TPP', 'TCQ', 'PEM', 'PIU', 'TYL', 'CUZ', 'NZA', 'CJA', 'HUU', 'LHC', 'MFT', 'GKA', 'MAG', 'HGU', 'LAE', 'POM', 'WWK', 'WPM', 'VMU', 'UKU', 'TFI', 'SKC', 'OPU', 'OBX', 'LSA', 'LNV', 'LMY', 'KUY', 'KKD', 'KDR', 'JAQ', 'IIS', 'IHU', 'GMI', 'ATP', 'WBM', 'VAI', 'RAB', 'TBG', 'TIZ', 'MIS', 'MXH', 'MAS', 'MDU', 'KVG', 'KMA', 'KRI', 'UNG', 'HKN', 'PNP', 'GUR', 'DAU', 'CMU', 'BUA', 'FNE', 'ITK', 'ONB', 'TPI', 'AGL', 'WTP', 'AWB', 'TFM', 'BOT', 'AIE', 'SIM', 'AUJ', 'EIA', 'MNL', 'CBO', 'CGY', 'PAG', 'ZAM', 'BAG', 'TAC', 'BCD', 'DGT', 'ILO', 'KLO', 'PPS', 'SJI', 'TAG', 'MPH', 'DVO', 'CRK', 'USU', 'BXU', 'DPL', 'LAO', 'LGP', 'OZC', 'CEB', 'MBT', 'CRM', 'JOL', 'CGM', 'CYU', 'ENI', 'RXS', 'CYP', 'VRC', 'TUG', 'SFE', 'BSO', 'WNP', 'TDG', 'SUG', 'SGS', 'GES', 'SFS', 'MRQ', 'TBH', 'CYZ', 'OMC', 'BPR', 'LBX', 'RZP', 'LYP', 'GWD', 'GIL', 'KHI', 'LHE', 'MFG', 'MJD', 'MUX', 'WNS', 'PJG', 'PSI', 'PEW', 'UET', 'RYK', 'ISB', 'RAZ', 'SKZ', 'SDT', 'SUL', 'BDN', 'PZH', 'TUK', 'SYW', 'KDU', 'PAJ', 'ORW', 'KDD', 'HDD', 'JIW', 'DSK', 'DEA', 'DBA', 'CJL', 'BHV', 'BNP', 'SKT', 'GDN', 'KRK', 'KTW', 'POZ', 'RZE', 'SZZ', 'OSP', 'WAW', 'WRO', 'IEG', 'LCJ', 'BZG', 'OSZ', 'QYD', 'QXR', 'WMI', 'LUZ', 'CZW', 'ASU', 'AGT', 'PJC', 'DOH', 'IUD', 'XOZ', 'ARW', 'BCM', 'BAY', 'BBU', 'CND', 'CLJ', 'CSB', 'CRA', 'IAS', 'OMR', 'OTP', 'SBZ', 'SUJ', 'SCV', 'TCE', 'TGM', 'TSR', 'SIB', 'CIO', 'DVA', 'DZM', 'BEG', 'INI', 'PRN', 'YKS', 'MJZ', 'BQS', 'KHV', 'PVS', 'GDX', 'PWE', 'PKC', 'UUS', 'VVO', 'HTA', 'BTK', 'IKT', 'UUD', 'LED', 'MMK', 'KGD', 'ABA', 'BAX', 'KEJ', 'OMS', 'KRR', 'MCX', 'MRV', 'STW', 'ROV', 'AER', 'ASF', 'VOG', 'CEK', 'MQF', 'NJC', 'PEE', 'SGC', 'SVX', 'BZK', 'SVO', 'KLD', 'VOZ', 'VKO', 'SCW', 'KZN', 'REN', 'UFA', 'KBY', 'DME', 'OVB', 'TJM', 'KUF', 'GOJ', 'TOF', 'UIK', 'NSK', 'AAQ', 'BKA', 'ARH', 'RTW', 'NUX', 'NOJ', 'UCT', 'USK', 'PEX', 'NNM', 'PKV', 'KGP', 'KJA', 'URJ', 'IWA', 'PYJ', 'KXK', 'IKS', 'CYX', 'CKH', 'CNN', 'DYR', 'OHO', 'CSH', 'CEE', 'AMV', 'KSZ', 'PES', 'EIE', 'KYZ', 'NOZ', 'HTG', 'IAA', 'GRV', 'NAL', 'OGZ', 'ESL', 'SLY', 'HMA', 'NYA', 'OVS', 'IJK', 'KVX', 'NYM', 'RAT', 'NFG', 'KRO', 'RYB', 'EGO', 'URS', 'LPK', 'VKT', 'UUA', 'JOK', 'CSY', 'ULY', 'OSW', 'PEZ', 'SKX', 'BWO', 'NBB', 'TBW', 'IAR', 'UKX', 'KVK', 'NBC', 'ULV', 'SWT', 'GDZ', 'VGD', 'BVV', 'OHH', 'LDG', 'KMW', 'KIE', 'NEZ', 'NOI', 'CKL', 'TYA', 'MOW', 'EYK', 'KLF', 'DKS', 'RGK', 'DEE', 'VUS', 'ODO', 'ULK', 'VLU', 'KVM', 'ZKP', 'UMS', 'ADH', 'GYI', 'KGL', 'KME', 'AHB', 'HOF', 'ABT', 'BHH', 'DMM', 'DHA', 'GIZ', 'ELQ', 'URY', 'HAS', 'JED', 'HBT', 'MED', 'EAM', 'AQI', 'RAH', 'RUH', 'RAE', 'SHW', 'SLF', 'TUU', 'TIF', 'TUI', 'EJH', 'YNB', 'EWD', 'AJF', 'DWD', 'ULH', 'HIR', 'GTA', 'RBV', 'KGE', 'VAO', 'RUS', 'RNL', 'MNY', 'GZO', 'MUA', 'SCZ', 'IRA', 'MBU', 'FRE', 'BAS', 'AKS', 'ATD', 'BN1', 'BNY', 'RIN', 'EGM', 'AFT', 'RNA', 'CHY', 'NNB', 'XYA', 'BPF', 'DES', 'SEZ', 'PRI', 'BDI', 'DOG', 'ELF', 'KSL', 'EBD', 'MAK', 'KRT', 'PZU', 'UYL', 'ATB', 'EGN', 'RBX', 'WHF', 'WUU', 'RNB', 'GOT', 'JKG', 'LDK', 'GSE', 'KVB', 'THN', 'KSK', 'MXX', 'NYO', 'KID', 'JLD', 'OSK', 'KLR', 'MMX', 'HAD', 'VXO', 'EVG', 'GEV', 'HUV', 'KRF', 'LYC', 'SDL', 'OER', 'KRN', 'SFT', 'UME', 'VHM', 'AJR', 'ORB', 'VST', 'LLA', 'ARN', 'BMA', 'BLE', 'HLF', 'GVX', 'LPI', 'NRK', 'VBY', 'HMV', 'SQO', 'AGH', 'TYF', 'KSD', 'HFS', 'OSD', 'PJA', 'STO', 'JHE', 'XEV', 'QYX', 'SOO', 'NYN', 'QPG', 'XSP', 'SIN', 'FNA', 'KEN', 'KBS', 'BTE', 'JMY', 'HGS', 'WYE', 'GBK', 'HGA', 'BBO', 'KMU', 'BXX', 'BUO', 'GLK', 'MGQ', 'BSA', 'ALU', 'GGR', 'PBM', 'ORG', 'ABN', 'BTO', 'DOE', 'DRJ', 'ICK', 'OEM', 'SMZ', 'TOT', 'AGI', 'AAJ', 'LDO', 'PCP', 'TMS', 'ALP', 'DAM', 'DEZ', 'LTK', 'PMS', 'KAC', 'MTS', 'DMK', 'UTP', 'LPT', 'PRH', 'HHQ', 'PHS', 'NAW', 'KBV', 'PAN', 'USM', 'HKT', 'HDY', 'TST', 'UTH', 'SNO', 'LOE', 'BKK', 'CNX', 'CEI', 'NST', 'NAK', 'KOP', 'UBP', 'KKC', 'THS', 'URT', 'HGN', 'NNT', 'ROI', 'BFV', 'UNN', 'TDX', 'PYY', 'PHY', 'CJM', 'MAQ', 'TKT', 'DYU', 'LBD', 'TJU', 'MYP', 'ASB', 'KRW', 'CRZ', 'TAZ', 'BKN', 'MIR', 'TUN', 'GAF', 'GAE', 'DJE', 'EBM', 'SFA', 'TOE', 'TBJ', 'NBE', 'TBU', 'VAV', 'NTT', 'NFO', 'HPA', 'EUA', 'ESB', 'ANK', 'ADA', 'AFY', 'AYT', 'GZT', 'KYA', 'MZH', 'VAS', 'MLX', 'ASR', 'DNZ', 'IST', 'BZI', 'BDM', 'ESK', 'ADB', 'IGL', 'DLM', 'BXN', 'EZS', 'DIY', 'ERC', 'ERZ', 'TZX', 'VAN', 'BAL', 'NAV', 'BJV', 'SAW', 'SZF', 'EDO', 'ISE', 'ADF', 'AJI', 'KCM', 'SFQ', 'KSY', 'USQ', 'YEI', 'TEQ', 'SIC', 'MSR', 'CKZ', 'AOE', 'MQM', 'UAB', 'HTY', 'ONQ', 'SSX', 'GZP', 'IGD', 'GNY', 'KZR', 'BGG', 'KFS', 'BTZ', 'TAB', 'POS', 'KNH', 'PIF', 'TTT', 'GNI', 'KHH', 'CYI', 'KYD', 'RMQ', 'TNN', 'MZG', 'TSA', 'TPE', 'WOT', 'HUN', 'MFK', 'HCN', 'LZN', 'CMJ', 'TXG', 'SMT', 'ARK', 'DAR', 'DOD', 'IRI', 'JRO', 'LKY', 'MYW', 'MWZ', 'PMA', 'TGT', 'ZNZ', 'SEU', 'MFA', 'TBO', 'SHY', 'MUZ', 'LDI', 'TKQ', 'BKZ', 'DUU', 'KBP', 'DOK', 'DNK', 'SIP', 'IEV', 'LWO', 'ODS', 'MPW', 'VSG', 'OZH', 'KWG', 'HRK', 'IFO', 'CWC', 'RWN', 'UDJ', 'TNL', 'CEJ', 'UKC', 'CKC', 'NLV', 'KHE', 'KGO', 'UKS', 'KHC', 'KIP', 'GML', 'VIN', 'PLV', 'HMJ', 'ZTR', 'EBB', 'SRT', 'ULU', 'RUA', 'OYG', 'PAF', 'PPG', 'FTI', 'OFU', 'ATF', 'OCC', 'CUE', 'GPS', 'GYE', 'XMS', 'MCH', 'MEC', 'PVO', 'UIO', 'SNC', 'TPC', 'TUA', 'ESM', 'LOH', 'SCY', 'LGQ', 'LTX', 'TPN', 'PTZ', 'SAL', 'UAM', 'GUM', 'CAP', 'PAP', 'PAX', 'JEE', 'MAJ', 'KWA', 'ENT', 'MIJ', 'WTO', 'WTE', 'WJA', 'UIT', 'RNP', 'NDK', 'MJE', 'MJB', 'MAV', 'LIK', 'KBT', 'JEJ', 'JAT', 'BII', 'AUL', 'AIM', 'UTK', 'KIO', 'UJE', 'IMI', 'TIC', 'EAL', 'LML', 'AIC', 'EJT', 'TKK', 'PNI', 'KSA', 'YAP', 'ULI', 'ROP', 'SPN', 'TIQ', 'ROR', 'C23', 'BOC', 'CHX', 'DAV', 'HOW', 'PAC', 'PTY', 'SAX', 'OTD', 'ELE', 'BFQ', 'PLP', 'JQE', 'ONX', 'CTD', 'RSI', 'PYC', 'UTU', 'MPU', 'PVE', 'PUE', 'ACU', 'TUW', 'GHE', 'MPP', 'CPX', 'BQN', 'FAJ', 'SIG', 'MAZ', 'PSE', 'SJU', 'ARE', 'VQS', 'RVR', 'NCA', 'PLS', 'XSC', 'SLX', 'MDS', 'GDT', 'JON', 'MDY', 'C91', 'CDI', 'SUE', '0P2', 'PDT', 'TYE', 'RIW', 'MTJ', '1CS', 'ENW', 'VGT', 'C02', 'DKB', 'LAF', 'OXD', 'MIE', '1RL', 'MQB', 'AUW', 'C47', 'IWD', 'MCD', 'GRM', 'NPZ', 'MXY', 'SWD', 'MGC', 'AET', 'YAK', 'MQT', 'IMT', 'ESC', 'MWA', 'BTI', 'K03', 'LUR', 'PIZ', 'ITO', 'ORL', 'BTT', 'Z84', 'UTO', 'FYU', 'SVW', 'FRN', 'TLJ', 'CZF', 'BED', 'SNP', 'EHM', 'PBV', 'ILI', 'PTU', 'BMX', 'OSC', 'OAR', 'MHR', 'BYS', 'NXP', 'FSM', 'MRI', 'GNT', 'PNC', 'SVN', 'GFK', 'PBF', 'NSE', 'HNM', 'PRC', 'TTN', 'BOS', 'SUU', 'RME', 'ENV', 'BFM', 'OAK', 'OMA', 'NOW', 'OGG', 'ICT', 'MCI', 'MSN', 'DLG', 'HRO', 'PHX', 'BGR', 'FXE', 'GGG', 'AND', 'GEG', 'HWO', 'SFO', 'CTB', 'ARA', 'GNV', 'MEM', 'DUG', 'BIG', 'CNW', 'ANN', 'CAR', 'LRF', 'HUA', 'POB', 'DHT', 'DLF', 'LAX', 'ANB', 'CLE', 'DOV', 'CVG', 'FME', 'NID', 'HON', 'JNU', 'LFT', 'EWR', 'BOI', 'INS', 'GCK', 'MOT', 'HHI', 'MXF', 'RBM', 'DAL', 'FCS', 'HLN', 'NKX', 'LUF', 'HRT', 'HHR', 'HUL', 'END', 'NTD', 'EDW', 'LCH', 'KOA', 'MYR', 'NLC', 'ACK', 'FAF', 'HOP', 'DCA', 'NHK', 'PSX', 'BYH', 'ACY', 'TIK', 'ECG', 'PUB', 'PQI', 'IKR', 'GRF', 'ADQ', 'UPP', 'FLL', 'MKO', 'INL', 'SLC', 'CDS', 'BIX', 'LSF', 'NQI', 'FRI', 'MDT', 'LNK', 'LAN', 'MUE', 'MSS', 'HKY', 'SPG', 'FMY', 'IAH', 'MLT', 'ADW', 'INT', 'VCV', 'CEW', 'GTB', 'PHN', 'BFL', 'ELP', 'HRL', 'CAE', 'DMA', 'NPA', 'PNS', 'RDR', 'HOU', 'BKF', 'ORT', 'PAQ', 'PIT', 'BRW', 'EFD', 'NUW', 'ALI', 'VAD', 'MIA', 'SEA', 'CHA', 'BDR', 'JAN', 'GLS', 'LGB', 'HDH', 'IPT', 'IND', 'SZL', 'AKC', 'GWO', 'HPN', 'FOK', 'JBR', 'TNX', 'LNA', 'NZY', 'BIF', 'YUM', 'CNM', 'DLH', 'BET', 'LOU', 'FHU', 'LIH', 'HUF', 'HVR', 'MWH', 'MPV', 'RIC', 'SHV', 'CDV', 'ORF', 'BPT', 'SAV', 'HIF', 'OME', 'SPB', 'PIE', 'MNM', 'CXO', 'SCC', 'SAT', 'ROC', 'COF', 'TEB', 'RCA', 'RDU', 'DAY', 'ENA', 'MLC', 'IAG', 'CFD', 'PHF', 'ESF', 'LTS', 'TUS', 'MIB', 'BAB', 'IKK', 'GSB', 'PVD', 'SBY', 'RIU', 'BUR', 'DTW', 'TPA', 'PMB', 'POE', 'EIL', 'HIB', 'LFK', 'MAF', 'GRB', 'ADM', 'WRI', 'NKT', 'SBO', 'AGS', 'ISN', 'LIT', 'SWF', 'BDE', 'SAC', 'HOM', 'TBN', 'MGE', 'SKA', 'HTL', 'PAM', 'DFW', 'MLB', 'TCM', 'AUS', 'LCK', 'TYS', 'HLR', 'STL', 'MIV', 'SPS', 'LUK', 'ATL', 'MER', 'MCC', 'GRR', 'INK', 'FAT', 'VRB', 'IPL', 'BNA', 'LRD', 'EDF', 'OTZ', 'AOO', 'DYS', 'ELD', 'LGA', 'TLH', 'DPA', 'ACT', 'AUG', 'INJ', 'NIP', 'MKL', 'MKK', 'FTK', 'SJT', 'CXL', 'CIC', 'BTV', 'JAX', 'DRO', 'IAD', 'CLL', 'SFF', 'MKE', 'ABI', 'COU', 'PDX', 'TNT', 'PBI', 'FTW', 'OGS', 'FMH', 'BFI', 'SKF', 'HNL', 'DSM', 'EWN', 'SAN', 'MLU', 'SSC', 'ONT', 'GVT', 'ROW', 'DET', 'BRO', 'DHN', 'WWD', 'NFL', 'MTC', 'FMN', 'CRP', 'SYR', 'NQX', 'MDW', 'SJC', 'HOB', 'PNE', 'DEN', 'PHL', 'SUX', 'MCN', 'TCS', 'PMD', 'RND', 'NJK', 'CMH', 'FYV', 'FSI', 'PNM', 'FFO', 'GAL', 'MWL', 'IAB', 'NBG', 'BFT', 'TXK', 'PBG', 'APG', 'TCC', 'ANC', 'GRK', 'ZUN', 'BLI', 'NQA', 'EKN', 'HFD', 'SFZ', 'MOB', 'NUQ', 'SAF', 'BKH', 'DRI', 'BSF', 'OLS', 'MCF', 'BLV', 'OPF', 'DRT', 'RSW', 'AKN', 'MUI', 'JHM', 'HST', 'RAL', 'FLV', 'WAL', 'HMN', 'NXX', 'CYS', 'SCK', 'CHS', 'RNO', 'KTN', 'YIP', 'VBG', 'BHM', 'NEL', 'SYA', 'LSV', 'RIV', 'MOD', 'SMF', 'UGN', 'COS', 'BUF', 'SKY', 'PAE', 'MUO', 'CDC', 'BDL', 'MFE', 'NGU', 'CEF', 'LBB', 'ORD', 'BCT', 'FAI', 'NYG', 'CVS', 'NGF', 'OFF', 'GKN', 'ART', 'PSP', 'AMA', 'FOD', 'BAD', 'FOE', 'COT', 'ILM', 'BTR', 'NMM', 'TYR', 'BWI', 'HBR', 'LNY', 'AEX', 'WSD', 'CDB', 'TUL', 'SIT', 'ISP', 'MSP', 'ILG', 'DUT', 'MSY', 'PWM', 'OKC', 'ALB', 'VDZ', 'LFI', 'SNA', 'CBM', 'TMB', 'NTU', 'GUS', 'CPR', 'VPS', 'SEM', 'EYW', 'CLT', 'LAS', 'MCO', 'FLO', 'GTF', 'YNG', 'FBK', 'MMV', 'WRB', 'PUW', 'LWS', 'ELM', 'ITH', 'MRY', 'SBA', 'DAB', 'JRB', 'TKA', 'HVN', 'AVL', 'GSO', 'FSD', 'MHT', 'APF', 'SDF', 'CHO', 'ROA', 'LEX', 'EVV', 'ABQ', 'BZN', 'BIL', 'BTM', 'TVC', 'BHB', 'RKD', 'JAC', 'RFD', 'TSS', 'GSP', 'BMI', 'GPT', 'AZO', 'TOL', 'FWA', 'DEC', 'CID', 'LSE', 'CWA', 'PIA', 'ATW', 'RST', 'CMI', 'MHK', 'FKL', 'GJT', 'SGU', 'DWH', 'S46', 'SRQ', 'VNY', 'X21', 'MLI', 'PFN', 'DWS', 'BIS', 'TEX', 'RAP', 'CLD', 'FNT', 'RDD', 'EUG', 'IDA', 'MFR', 'RDM', 'CAK', 'HSV', 'PKB', 'MGM', 'TRI', 'PAH', 'FCA', 'PGA', 'MBS', 'BGM', 'BLH', 'PSG', 'SFB', 'JST', 'MSO', 'GCN', 'SGR', 'APA', 'CVN', 'FST', 'LVS', 'IWS', 'LHX', 'LRU', 'BKD', 'TPL', 'OZA', 'WKL', 'EGE', 'CGF', 'MFD', 'CSG', 'LAW', 'FNL', 'FLG', 'TVL', 'TWF', 'MVY', 'UUU', 'VSF', 'CON', 'SFM', 'GON', 'STC', 'GTR', 'HQM', 'ERI', 'HYA', 'SDX', 'MGW', 'CRW', 'AVP', 'BJI', 'FAR', 'MKC', 'AZA', 'GCC', 'NZJ', 'ECA', 'SCE', 'MEI', 'SPI', 'CEZ', 'HDN', 'GUP', 'LBL', 'LAA', 'GLD', 'COD', 'SGF', 'JLN', 'ABE', 'XNA', 'SBN', 'ZWU', 'SMD', 'ACV', 'ATT', 'OAJ', 'TCL', 'DBQ', 'LUP', 'WRG', 'VAK', 'ANI', 'MOU', 'MCG', 'KLG', 'HNS', 'HCR', 'SGY', 'GST', 'ADK', 'YKM', 'WRL', 'VLD', 'VCT', 'UIN', 'TUP', 'SMX', 'SLN', 'SLK', 'SHR', 'SBP', 'RUT', 'RKS', 'RHI', 'RDG', 'PSM', 'PLN', 'PIR', 'PIH', 'PIB', 'OWB', 'OTH', 'MSL', 'MLS', 'MKG', 'LYH', 'LWT', 'LNS', 'LMT', 'LEB', 'LBF', 'LBE', 'LAR', 'JMS', 'IRK', 'HTS', 'HOT', 'GRI', 'GGW', 'FAY', 'EWB', 'EKO', 'EAU', 'DUJ', 'DDC', 'CMX', 'CLM', 'CKB', 'CIU', 'CGI', 'CEC', 'BRL', 'BQK', 'BKW', 'BFF', 'BFD', 'ATY', 'APN', 'ALW', 'ALO', 'ALM', 'AHN', 'ABY', 'ABR', 'WKK', 'BKX', 'BLF', 'EAR', 'GLH', 'IFP', 'IGM', 'PSC', 'KQA', 'SVC', 'LPS', 'ORH', 'ZVE', 'PWT', 'SPW', 'JEF', 'GCW', 'BLD', 'PVC', 'LKE', 'FUL', 'SUN', 'MCW', '1OH', 'EAT', 'OSH', 'BEH', 'UES', '10C', 'X01', 'TOG', 'PTH', 'KVC', 'KNW', 'IGG', 'DRG', 'SDP', 'HGR', 'KPC', 'ARC', 'WTK', 'SVA', 'SHH', 'RBY', 'PHO', 'MYU', 'KVL', 'KSM', 'KAL', 'HPB', 'GAM', 'ATK', 'ANV', 'AKP', 'GYY', 'BRD', 'LWB', 'PGV', 'CYF', 'OXR', 'BKG', 'ZBP', 'ZYP', 'SCH', 'UST', 'STS', 'ISM', 'LCQ', 'LGU', 'BMC', 'MLD', 'ASE', 'HHH', 'ZFV', 'BWD', 'LXY', 'ERV', 'GED', 'GBN', 'HYS', 'SUS', 'LYU', 'GPZ', 'TVF', 'EGV', 'ARV', 'IKV', 'NGP', 'AVX', 'MHV', 'KEH', 'HUT', 'EGA', 'STJ', 'ZRT', 'ZTF', 'ZRP', 'VOK', 'GUC', 'TOA', 'MBL', 'PGD', 'JGC', 'WFK', 'JHW', 'SME', 'SHD', 'DVL', 'DIK', 'SDY', 'CDR', 'AIA', 'MCK', 'MTH', 'GDV', 'OLF', 'WYS', 'ALS', 'CNY', 'ELY', 'VEL', 'SRR', 'SOW', 'MYL', 'SMN', 'MMH', 'FRD', 'ESD', 'OTS', 'AST', 'ONP', 'EMK', 'UNK', 'UUK', 'SHX', 'CHU', 'NUI', 'EEK', 'KUK', 'KWT', 'KWK', 'MLL', 'RSH', 'WTL', 'KEK', 'KGK', 'KLL', 'KMO', 'TWA', 'CIK', 'EAA', 'HUS', 'HSL', 'LIV', 'MNT', 'NUL', 'RMP', 'TAL', 'VEE', 'WBQ', 'CEM', 'SHG', 'KBC', 'CXF', 'IYK', 'VIS', 'MCE', 'AGN', 'ELV', 'TKE', 'PEC', 'CYM', 'FNR', 'EXI', 'HNH', 'AFE', 'CGA', 'HYL', 'MTM', 'KTB', 'HYG', 'WHD', 'KPB', 'PPV', 'WWP', 'KCQ', 'EGX', 'KCL', 'KBW', 'KPV', 'PIP', 'WSN', 'AKK', 'KYK', 'KLN', 'OLH', 'KOZ', 'ORI', 'ALZ', 'AOS', 'KKB', 'KMY', 'KOY', 'KPY', 'KPR', 'SYB', 'WSJ', 'KWP', 'KZB', 'ABL', 'BKC', 'IAN', 'OBU', 'ORV', 'WLK', 'KTS', 'ELI', 'GLV', 'TLA', 'WAA', 'WMO', 'CIL', 'KKA', 'SMK', 'SKK', 'WBB', 'TNC', 'AKB', 'IKO', 'ICY', 'CYT', 'AUK', 'SXP', 'KPN', 'KFP', 'NLG', 'PML', 'KLW', 'KWN', 'KOT', 'KYU', 'SCM', 'NNL', 'PDB', 'NUP', 'KKH', 'NIB', 'TCT', 'PQS', 'AKI', 'TLT', 'KGX', 'AIN', 'NCN', 'CZN', 'IRC', 'KCC', 'CKD', 'RDV', 'SLQ', 'SRV', 'HKB', 'KAE', 'AQC', 'MHM', 'MLY', 'STG', 'TEK', 'WFB', 'CPS', 'MRB', 'RKH', 'AGC', 'NZC', 'FTY', 'OSU', 'ADS', 'DTS', 'RBN', 'ISO', 'FFA', 'PVU', 'SBS', 'DTA', 'RIF', 'PUC', 'LAM', 'BXS', 'HII', 'INW', 'DGL', 'BOW', 'LVK', 'MPI', 'TRM', 'SMO', 'UDD', 'ZSY', 'OLM', 'DWA', 'RIL', 'SAA', 'PDK', 'BMG', 'SUA', 'MMU', 'APC', 'SDM', 'PHK', 'ECP', 'SBD', 'SQL', 'RWI', 'SXQ', 'SEE', 'TKF', 'MGR', 'RYY', 'ONH', 'LVM', 'BIV', 'JRA', 'LAL', 'IDL', 'RBK', 'PCW', 'MGY', 'RID', 'FDY', 'SPF', 'OLV', 'BJC', 'SLE', 'UTM', 'MWC', 'JVL', 'GKY', 'LZU', 'BWG', 'RVS', 'BCE', 'BUY', 'JCI', 'ESN', 'R49', 'MYV', 'DUC', 'E91', 'UVA', 'LOT', 'C16', 'CCR', 'OCA', 'SGH', 'MPB', 'TOP', 'EMP', 'TKI', 'PWK', 'KLS', '3W2', 'TWD', '38W', '0S9', 'ZRD', 'ILN', 'AVW', 'CGZ', 'BXK', 'E63', 'MMI', 'STK', 'RWL', 'CDW', 'AIZ', 'L35', 'TVI', 'HSH', 'TMA', 'DVT', 'HDO', 'MCL', 'LHD', 'PPC', 'HCC', 'HLG', 'FZG', '40J', 'RKP', 'CKF', 'OMN', 'TTD', 'HIO', '24J', 'GAI', 'CVX', '2J9', 'RCE', 'BYW', 'RSJ', 'WSX', 'FBS', 'L06', 'XFL', 'MVL', 'RBD', 'WST', 'BID', 'NME', 'OOK', 'TNK', 'GNU', 'WWT', 'BGE', 'SPZ', 'WHP', 'MAE', 'U76', '19A', 'AAF', 'SGJ', 'DQH', 'FRP', 'ALX', 'TAN', 'PYM', 'OQU', '1B9', 'OWD', 'BAF', 'IJD', 'MGJ', 'CXY', 'GHG', 'DXR', 'ASH', 'LWM', 'OXC', 'FIT', 'VPC', 'PYP', 'RMG', 'GAD', 'DKX', 'WDR', 'JYL', 'DNN', 'CTJ', 'LGC', 'MLJ', 'PIM', 'FFC', 'GVL', 'PHD', 'UDG', 'HXD', '0A9', 'DNL', 'MRN', 'PBX', 'TOC', 'VDF', 'AFW', 'MYF', 'LWC', 'EGT', 'PMP', 'EET', 'UMP', 'LOZ', 'FBG', 'RAC', 'REI', 'RIR', 'TIW', 'X39', 'JKA', 'HZL', 'CBE', 'LNR', 'JOT', 'VYS', 'JXN', 'BBX', 'OBE', 'SEF', 'AVO', 'GIF', 'ZPH', 'OCF', 'JES', 'CCO', 'HQU', 'AIK', 'CDN', 'LBT', '3J1', 'SOP', 'RCZ', 'Y51', 'DLL', 'SVH', 'C89', 'BUU', 'N53', '06N', 'LHV', '29D', '3G3', '3G4', '2G9', 'LPR', 'BKL', 'DKK', 'N87', 'VAY', 'LDJ', 'O03', '0W3', 'ANQ', 'C65', 'VNW', '17G', 'X07', 'RMY', 'GVQ', '0G7', 'N69', '0G6', 'CLW', 'X49', 'NYC', 'CHI', 'CGX', 'WAS', 'JZP', 'CRE', 'IGQ', 'Y72', 'RNM', 'OEB', 'WBW', 'LNN', 'FFT', 'LEW', '1A3', 'NBU', 'MRK', 'DRM', 'GDW', '24C', 'LWA', 'MFI', 'ISW', 'CWI', 'BVY', 'O27', 'POF', 'EPM', 'EOK', 'ME5', 'E51', 'E55', '1G3', 'ZRA', 'ZSF', 'XZK', 'FLD', 'PCZ', 'STE', 'ERY', '25D', 'GQQ', 'CKV', 'LPC', 'CTH', 'LKP', 'NY9', 'WIH', 'AOH', 'SSI', 'BFP', 'F57', 'GGE', 'HDI', '2A0', '2G2', 'RNT', 'POC', '09J', 'CDK', 'CTY', 'CEU', '36U', 'BEC', 'GTU', 'SNY', 'W13', 'JYO', 'SDC', 'CLC', 'WBU', 'PAO', 'FFZ', 'P08', 'P52', 'A39', 'E25', 'PTK', 'EEN', 'EQY', 'IOW', 'MWM', 'ANP', 'PEQ', 'HBG', 'YKN', 'SES', '1C9', 'HWD', 'ARB', 'ZTY', 'NGZ', 'ZWI', 'EKI', 'IMM', 'ZRZ', 'PTB', 'SBM', '3D2', 'MZJ', 'GEU', 'SAD', 'SIK', 'L52', 'GFL', 'K27', 'CGC', 'MTN', 'LHM', 'FZI', 'IZG', 'NEW', 'COE', 'BMT', 'DNV', 'COI', 'X59', 'TIX', 'X26', '1H2', 'AAP', 'FCM', 'OJC', 'X04', 'OQN', 'MNZ', 'UT3', '2H0', '1G4', '2B2', 'LKK', 'PTA', 'FDW', 'DAW', 'PRL', 'EWK', 'TZR', 'W04', 'FBR', 'S40', 'CLS', 'M94', 'S30', 'EVW', 'K83', 'LRO', 'ACJ', 'EUF', 'MQI', 'AUO', 'CZG', 'EKY', 'A50', 'MIC', '23M', 'DBN', 'UCA', 'CVO', 'CWT', 'DHB', 'OLT', 'AWK', 'EIS', 'VIJ', 'STT', 'STX', 'SSB', 'MVD', 'STY', 'MDO', 'PDP', 'CYR', 'RVY', 'BHK', 'SKD', 'TAS', 'AZN', 'FEG', 'NMA', 'NCU', 'UGC', 'KSQ', 'TMJ', 'NVI', 'AFS', 'AGV', 'AAO', 'BLA', 'BNS', 'BRM', 'CBL', 'CAJ', 'CUP', 'CZE', 'CUM', 'GUI', 'GUQ', 'LSP', 'LFR', 'MAR', 'MRD', 'PMV', 'CCS', 'MUN', 'PYH', 'PBL', 'PZO', 'SVZ', 'STD', 'SFH', 'SFD', 'SOM', 'STB', 'TUV', 'VLN', 'VLV', 'VDP', 'SNV', 'CGU', 'MYC', 'VIG', 'LRV', 'DAD', 'HAN', 'NHA', 'SGN', 'HUI', 'DLI', 'VDH', 'VKG', 'CAH', 'VCL', 'TBB', 'PQC', 'KON', 'BMV', 'HPH', 'CXR', 'VCS', 'VCA', 'DIN', 'UIH', 'PXU', 'VII', 'PHA', 'SQH', 'THD', 'VLI', 'TAH', 'IPA', 'FTA', 'DLY', 'AWD', 'AUY', 'OLZ', 'SWJ', 'VLS', 'ULB', 'TGH', 'SON', 'RCL', 'ZGU', 'NUS', 'LNE', 'MWF', 'LNB', 'LPM', 'PBJ', 'SSR', 'LOD', 'CCV', 'EAE', 'TOH', 'SLH', 'MTV', 'WLH', 'APW', 'FGI', 'MXS', 'AAU', 'TKC', 'DLA', 'MVR', 'FOM', 'NGE', 'GOU', 'BFX', 'BPC', 'YAO', 'NSI', 'BGF', 'BBT', 'GDA', 'AEH', 'MQQ', 'NDJ', 'FYT', 'SRH', 'AMC', 'BZV', 'FTX', 'OUE', 'PNR', 'FIH', 'NLO', 'MNB', 'FDU', 'KKW', 'MDK', 'BDT', 'GMA', 'LIQ', 'FKI', 'IRP', 'BUX', 'BKY', 'GOM', 'KND', 'FBM', 'KWZ', 'FMI', 'KMN', 'KGA', 'MJM', 'PFR', 'LJA', 'TSH', 'BSU', 'KRZ', 'NIO', 'INO', 'MAT', 'BOA', 'DIS', 'KGN', 'BSG', 'SSG', 'OYE', 'OKN', 'LBQ', 'BMM', 'POG', 'OMB', 'MKU', 'LBV', 'MVB', 'GAX', 'TCH', 'MJL', 'KOU', 'MYB', 'AXA', 'ANU', 'BBQ', 'DCF', 'DOM', 'GND', 'CRU', 'MNI', 'SKB', 'NEV', 'SLU', 'UVF', 'CIW', 'MQS', 'SVD', 'UNI', 'BQU', 'COO', 'OUA', 'BOY', 'ABJ', 'BYK', 'DJO', 'HGO', 'MJC', 'SPY', 'ASK', 'OXB', 'BKO', 'GAQ', 'KYS', 'MZI', 'TOM', 'MFQ', 'NIM', 'THZ', 'AJY', 'ZND', 'ZIG', 'CSK', 'KLC', 'DKR', 'XLS', 'BXE', 'KGG', 'TUD', 'MAX', 'LRL', 'LFW', 'RUR', 'TUB', 'AAA', 'TIH', 'REA', 'FAV', 'XMH', 'GMR', 'KKR', 'MKP', 'PKP', 'TKP', 'AXR', 'MVT', 'TKX', 'NHV', 'BOB', 'RGI', 'HUH', 'MOZ', 'HOI', 'MAU', 'RFP', 'PPT', 'UAH', 'UAP', 'AUQ', 'AHE', 'APK', 'RMT', 'NIU', 'RVV', 'ZTA', 'TTI', 'PUK', 'KNQ', 'KOC', 'LIF', 'GEA', 'MEE', 'TOU', 'UVE', 'NOU', 'ILP', 'BMY', 'TGJ', 'WLS', 'FUT', 'RIY', 'TAI', 'HOD', 'ADE', 'AXK', 'AAY', 'SAH', 'BHN', 'SCT', 'GXF', 'MSU', 'WDH', 'ERS', 'SWP', 'OMD', 'OND', 'LUD', 'MPA', 'WVB', 'GFY', 'NDU', 'ULX', 'OKF', 'OKU', 'TSB', 'KMP', 'TCY', 'ALJ', 'AGZ', 'BIY', 'BFN', 'CPT', 'DUR', 'ELS', 'GCJ', 'GRJ', 'HDS', 'JNB', 'KIM', 'KLZ', 'HLA', 'LAY', 'MGH', 'MEZ', 'NCS', 'DUH', 'PLZ', 'PHW', 'PTG', 'PZB', 'NTY', 'UTW', 'RCB', 'SBU', 'SIS', 'SZK', 'LTA', 'ULD', 'UTN', 'UTT', 'VRU', 'VIR', 'PRY', 'WEL', 'MBD', 'AAM', 'MQP', 'QRA', 'NLP', 'GSS', 'LDZ', 'INY', 'ELL', 'ADY', 'LVI', 'LUN', 'MFU', 'NLA', 'KIW', 'SLI', 'CIP', 'ZKB', 'BUQ', 'BFO', 'VFA', 'HRE', 'KAB', 'MVZ', 'GWE', 'WKM'])\n"
     ]
    }
   ],
   "source": [
    "# Show dict keys\n",
    "print(dictionary.keys())"
   ]
  },
  {
   "cell_type": "markdown",
   "metadata": {},
   "source": [
    "### Considerations\n",
    "As we can note from the two tests above, creating (and populating) a dictionary requires slightly more time than the same activity involving a fixed-size list."
   ]
  },
  {
   "cell_type": "markdown",
   "metadata": {},
   "source": [
    "## Time testing\n",
    "In order to test between the two ADT Python implementations, we can measure the time required to 3 basic operations that may be carried out:\n",
    "- **access**\n",
    "- **insert**\n",
    "- **delete**"
   ]
  },
  {
   "cell_type": "markdown",
   "metadata": {},
   "source": [
    "### Access"
   ]
  },
  {
   "cell_type": "markdown",
   "metadata": {},
   "source": [
    "#### List"
   ]
  },
  {
   "cell_type": "markdown",
   "metadata": {},
   "source": [
    "For instance, we want to access information about a single airport in the list with index 5000:"
   ]
  },
  {
   "cell_type": "code",
   "execution_count": 289,
   "metadata": {},
   "outputs": [
    {
     "name": "stdout",
     "output_type": "stream",
     "text": [
      "The slowest run took 52.28 times longer than the fastest. This could mean that an intermediate result is being cached.\n",
      "1.19 µs ± 2.42 µs per loop (mean ± std. dev. of 7 runs, 1 loop each)\n"
     ]
    }
   ],
   "source": [
    "%%timeit -n1\n",
    "# Accessing a list\n",
    "list_alternative_to_dictionary[5000]"
   ]
  },
  {
   "cell_type": "markdown",
   "metadata": {},
   "source": [
    "#### Dictionary"
   ]
  },
  {
   "cell_type": "markdown",
   "metadata": {},
   "source": [
    "For the same purpose, we want to access information about a single airport in the dictionary - we search for Amsterdam Schipol's information through its unique key 'AMS':"
   ]
  },
  {
   "cell_type": "code",
   "execution_count": 290,
   "metadata": {
    "scrolled": false
   },
   "outputs": [
    {
     "name": "stdout",
     "output_type": "stream",
     "text": [
      "The slowest run took 269.59 times longer than the fastest. This could mean that an intermediate result is being cached.\n",
      "6.73 µs ± 15.7 µs per loop (mean ± std. dev. of 7 runs, 1 loop each)\n"
     ]
    }
   ],
   "source": [
    "%%timeit -n1\n",
    "# Accessing a dictionary\n",
    "dictionary['AMS']"
   ]
  },
  {
   "cell_type": "code",
   "execution_count": 291,
   "metadata": {
    "scrolled": false
   },
   "outputs": [
    {
     "name": "stdout",
     "output_type": "stream",
     "text": [
      "The slowest run took 7.36 times longer than the fastest. This could mean that an intermediate result is being cached.\n",
      "651 ns ± 609 ns per loop (mean ± std. dev. of 7 runs, 1 loop each)\n"
     ]
    }
   ],
   "source": [
    "%%timeit -n1\n",
    "# Alternative way to access a value from a key\n",
    "dictionary.get('AMS')"
   ]
  },
  {
   "cell_type": "markdown",
   "metadata": {},
   "source": [
    "### Insert"
   ]
  },
  {
   "cell_type": "markdown",
   "metadata": {},
   "source": [
    "We try to insert in our data structures a mock example of an airport.\n",
    "First, we create a copy of our dictionary and list using the Python **copy()** method:\n",
    "\n",
    "**N.B.**: we avoid **timeit** as we want to insert and delete only once. Instead, we use **time**."
   ]
  },
  {
   "cell_type": "code",
   "execution_count": 292,
   "metadata": {},
   "outputs": [],
   "source": [
    "# Make a copy of the two ds\n",
    "dcopy = dictionary.copy()\n",
    "lcopy = list_alternative_to_dictionary.copy()"
   ]
  },
  {
   "cell_type": "markdown",
   "metadata": {},
   "source": [
    "#### List"
   ]
  },
  {
   "cell_type": "code",
   "execution_count": 293,
   "metadata": {},
   "outputs": [
    {
     "name": "stdout",
     "output_type": "stream",
     "text": [
      "CPU times: user 29 µs, sys: 14 µs, total: 43 µs\n",
      "Wall time: 49.1 µs\n"
     ]
    }
   ],
   "source": [
    "%%time\n",
    "lcopy.insert(5000, ['FSL', 100, 50, 'FSL', 129, 'Fantasyland'])"
   ]
  },
  {
   "cell_type": "code",
   "execution_count": 295,
   "metadata": {},
   "outputs": [
    {
     "data": {
      "text/plain": [
       "['FSL', 100, 50, 'FSL', 129, 'Fantasyland']"
      ]
     },
     "execution_count": 295,
     "metadata": {},
     "output_type": "execute_result"
    }
   ],
   "source": [
    "# Check if successfully inserted\n",
    "lcopy[5000]"
   ]
  },
  {
   "cell_type": "markdown",
   "metadata": {},
   "source": [
    "#### Dictionary"
   ]
  },
  {
   "cell_type": "code",
   "execution_count": 297,
   "metadata": {},
   "outputs": [
    {
     "name": "stdout",
     "output_type": "stream",
     "text": [
      "CPU times: user 5 µs, sys: 1 µs, total: 6 µs\n",
      "Wall time: 9.06 µs\n"
     ]
    }
   ],
   "source": [
    "%%time\n",
    "dcopy['FSL'] = [100, 50, 'FSL', 129, 'Fantasyland']"
   ]
  },
  {
   "cell_type": "code",
   "execution_count": 298,
   "metadata": {},
   "outputs": [
    {
     "data": {
      "text/plain": [
       "[100, 50, 'FSL', 129, 'Fantasyland']"
      ]
     },
     "execution_count": 298,
     "metadata": {},
     "output_type": "execute_result"
    }
   ],
   "source": [
    "# Check if successfully inserted\n",
    "dcopy.get('FSL')"
   ]
  },
  {
   "cell_type": "markdown",
   "metadata": {},
   "source": [
    "### Delete"
   ]
  },
  {
   "cell_type": "markdown",
   "metadata": {},
   "source": [
    "#### List"
   ]
  },
  {
   "cell_type": "code",
   "execution_count": 299,
   "metadata": {},
   "outputs": [
    {
     "name": "stdout",
     "output_type": "stream",
     "text": [
      "CPU times: user 4 µs, sys: 1e+03 ns, total: 5 µs\n",
      "Wall time: 8.82 µs\n"
     ]
    }
   ],
   "source": [
    "%%time\n",
    "del lcopy[5000]"
   ]
  },
  {
   "cell_type": "code",
   "execution_count": 300,
   "metadata": {},
   "outputs": [
    {
     "data": {
      "text/plain": [
       "['KLW', 55.579167000000005, -133.076111, 'USD', 0.9488, 'United States']"
      ]
     },
     "execution_count": 300,
     "metadata": {},
     "output_type": "execute_result"
    }
   ],
   "source": [
    "# Check if successfully deleted\n",
    "lcopy[5000]"
   ]
  },
  {
   "cell_type": "markdown",
   "metadata": {},
   "source": [
    "#### Dictionary"
   ]
  },
  {
   "cell_type": "code",
   "execution_count": 301,
   "metadata": {
    "scrolled": true
   },
   "outputs": [
    {
     "name": "stdout",
     "output_type": "stream",
     "text": [
      "CPU times: user 4 µs, sys: 1 µs, total: 5 µs\n",
      "Wall time: 9.06 µs\n"
     ]
    }
   ],
   "source": [
    "%%time\n",
    "del dcopy['FSL']"
   ]
  },
  {
   "cell_type": "code",
   "execution_count": 302,
   "metadata": {},
   "outputs": [],
   "source": [
    "# If empty, element successfully deleted\n",
    "dcopy.get('FSL')"
   ]
  },
  {
   "cell_type": "markdown",
   "metadata": {},
   "source": [
    "### Considerations (2)\n",
    "- **access** requires consistently more time for the dictionary data structure.\n",
    "- **insert** requires consistently more time for the list data structure, making the dictionary more efficient to maintain.\n",
    "- **delete** requires a comparable time on average for both the data structures examined."
   ]
  },
  {
   "cell_type": "markdown",
   "metadata": {},
   "source": [
    "## Unit test\n",
    "In this section, we use the Unittest class to test the dictionary data structure."
   ]
  },
  {
   "cell_type": "code",
   "execution_count": 107,
   "metadata": {},
   "outputs": [],
   "source": [
    "import unittest"
   ]
  },
  {
   "cell_type": "markdown",
   "metadata": {},
   "source": [
    "### Basic tests"
   ]
  },
  {
   "cell_type": "code",
   "execution_count": 194,
   "metadata": {
    "scrolled": true
   },
   "outputs": [
    {
     "name": "stderr",
     "output_type": "stream",
     "text": [
      "test_add (__main__.TestDict) ... ok\n",
      "test_edit (__main__.TestDict) ... ok\n",
      "test_key (__main__.TestDict) ... ok\n",
      "test_key2 (__main__.TestDict) ... ok\n",
      "test_remove (__main__.TestDict) ... ok\n",
      "\n",
      "----------------------------------------------------------------------\n",
      "Ran 5 tests in 0.004s\n",
      "\n",
      "OK\n"
     ]
    }
   ],
   "source": [
    "class TestDict(unittest.TestCase):\n",
    "    \"\"\"Basic tests on the Python dictionary data structure\"\"\"\n",
    "    \n",
    "    d1 = {'a': 1, 'b': 2, 'c': [1, 2]}\n",
    "    d2 = {'a': 1, 'b': 2, 'c': [1]}\n",
    "    d3 = {'a': 1, 'b': 2, 'c': [1]}\n",
    "    \n",
    "    def test_key(self):\n",
    "        self.assertEqual(hash('key'),hash('key'))\n",
    "\n",
    "    def test_key2(self):\n",
    "        self.assertFalse(hash('key') == hash(5))\n",
    "\n",
    "    def test_edit(self):\n",
    "        self.d1['c'] = [1]\n",
    "        self.assertDictEqual(self.d1, self.d2)\n",
    "        \n",
    "    def test_add(self):\n",
    "        self.d3['d'] = \"mystring\"\n",
    "        self.assertEqual(self.d3.get('d'), \"mystring\")\n",
    "        \n",
    "    def test_remove(self):\n",
    "        del self.d3['d']\n",
    "        self.assertDictEqual(self.d3, {'a': 1, 'b': 2, 'c': [1]})\n",
    "    \n",
    "    unittest.main(argv=[''], verbosity = 2, exit = False)"
   ]
  },
  {
   "cell_type": "markdown",
   "metadata": {},
   "source": [
    "## Summary"
   ]
  },
  {
   "cell_type": "markdown",
   "metadata": {},
   "source": [
    "From time complexity inspection we ascertain that the **creation of a dictionary** occurs in slightly more time than the **creation of the list**.<br/>\n",
    "The same applies to **accessing of information by key in the dictionary** and **accessing an element of the list** at time of writing.<br/>\n",
    "An added point in relation to the choice of using a dictionary as a data structure to store all the neccessary information from the data frame is the **accessibility of the value by the actual key**.<br>\n",
    "\n",
    "There is a **trade off** between the loss of efficiency in terms of time required to execute basic operations with a dictionary when compared to a simple Python list (dynamic array, in this context we keep it fixed thus saving memory space). But still, we think that the dictionary data structure implementation of a hash table is preferred for its maintainability and for the ease of accessing items by means of a unique key (representing each airport, for instance).\n",
    "<br>\n",
    "\n",
    "The structure of the dictionary lends itself to ease of coding and debugging.<br>\n",
    "\n",
    "The main reason why we chose to use a Python dictionary to store the airport atlas is to take advantage of its robustness and maintainability as a database, on which develop every algorithm needed to the most efficient route among all the possible routes."
   ]
  },
  {
   "cell_type": "code",
   "execution_count": null,
   "metadata": {},
   "outputs": [],
   "source": []
  }
 ],
 "metadata": {
  "kernelspec": {
   "display_name": "Python 3",
   "language": "python",
   "name": "python3"
  },
  "language_info": {
   "codemirror_mode": {
    "name": "ipython",
    "version": 3
   },
   "file_extension": ".py",
   "mimetype": "text/x-python",
   "name": "python",
   "nbconvert_exporter": "python",
   "pygments_lexer": "ipython3",
   "version": "3.7.2"
  },
  "toc": {
   "base_numbering": 1,
   "nav_menu": {},
   "number_sections": true,
   "sideBar": true,
   "skip_h1_title": true,
   "title_cell": "Table of Contents",
   "title_sidebar": "Contents",
   "toc_cell": false,
   "toc_position": {
    "height": "calc(100% - 180px)",
    "left": "10px",
    "top": "150px",
    "width": "217.8125px"
   },
   "toc_section_display": true,
   "toc_window_display": true
  }
 },
 "nbformat": 4,
 "nbformat_minor": 2
}
